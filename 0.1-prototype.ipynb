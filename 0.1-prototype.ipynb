{
 "cells": [
  {
   "cell_type": "code",
   "execution_count": 2,
   "metadata": {},
   "outputs": [],
   "source": [
    "import torch\n",
    "from torch import nn"
   ]
  },
  {
   "cell_type": "code",
   "execution_count": 3,
   "metadata": {},
   "outputs": [
    {
     "name": "stderr",
     "output_type": "stream",
     "text": [
      "Failed to detect the name of this notebook, you can set it manually with the WANDB_NOTEBOOK_NAME environment variable to enable code saving.\n",
      "\u001b[34m\u001b[1mwandb\u001b[0m: Currently logged in as: \u001b[33mamirfvb\u001b[0m. Use \u001b[1m`wandb login --relogin`\u001b[0m to force relogin\n"
     ]
    }
   ],
   "source": [
    "import wandb\n",
    "\n",
    "wandb.login()\n",
    "wandb_prj_name = \"graphQNN\""
   ]
  },
  {
   "cell_type": "markdown",
   "metadata": {},
   "source": [
    "## Dataset preprocessing"
   ]
  },
  {
   "cell_type": "code",
   "execution_count": 4,
   "metadata": {},
   "outputs": [],
   "source": [
    "from torch_geometric.loader import DataLoader\n",
    "from torch_geometric.datasets import QM9\n",
    "\n",
    "from torch_geometric.transforms import Compose, NormalizeScale, NormalizeFeatures\n",
    "\n",
    "\n",
    "# Load the QM9 dataset and filter graphs with less than 8 nodes\n",
    "dataset = QM9(root='data/QM9', transform=Compose([NormalizeScale()]))\n",
    "filtered_dataset = []\n",
    "max_nodes = 8\n",
    "for data in dataset:\n",
    "    if data.num_nodes < max_nodes:\n",
    "        data.x = data.x[:, :5] # keep only the atomic type\n",
    "        filtered_dataset.append(data)\n"
   ]
  },
  {
   "cell_type": "code",
   "execution_count": 5,
   "metadata": {},
   "outputs": [],
   "source": [
    "# normalize y values scale\n",
    "\n",
    "y_values = torch.cat([data.y for data in filtered_dataset], dim=0)\n",
    "\n",
    "a, b = y_values.min(dim=0)[0], y_values.max(dim=0)[0]\n",
    "mean = (a + b)/2\n",
    "std = (b - a)/2\n",
    "for data in filtered_dataset:\n",
    "    data.y = (data.y - mean)/std"
   ]
  },
  {
   "cell_type": "code",
   "execution_count": 79,
   "metadata": {},
   "outputs": [
    {
     "data": {
      "text/plain": [
       "(Data(x=[5, 11], edge_index=[2, 8], edge_attr=[8, 4], y=[1, 19], pos=[5, 3], idx=[1], name='gdb_1', z=[5]),\n",
       " Data(x=[5, 5], edge_index=[2, 8], edge_attr=[8, 4], y=[1, 19], pos=[5, 3], idx=[1], name='gdb_1', z=[5]))"
      ]
     },
     "execution_count": 79,
     "metadata": {},
     "output_type": "execute_result"
    }
   ],
   "source": [
    "x = dataset[0]; x2 = filtered_dataset[0]\n",
    "x, x2"
   ]
  },
  {
   "cell_type": "code",
   "execution_count": 80,
   "metadata": {},
   "outputs": [
    {
     "name": "stdout",
     "output_type": "stream",
     "text": [
      "('x', tensor([[0., 1., 0., 0., 0.],\n",
      "        [1., 0., 0., 0., 0.],\n",
      "        [1., 0., 0., 0., 0.],\n",
      "        [1., 0., 0., 0., 0.],\n",
      "        [1., 0., 0., 0., 0.]]))\n",
      "('edge_index', tensor([[0, 0, 0, 0, 1, 2, 3, 4],\n",
      "        [1, 2, 3, 4, 0, 0, 0, 0]]))\n",
      "('edge_attr', tensor([[1., 0., 0., 0.],\n",
      "        [1., 0., 0., 0.],\n",
      "        [1., 0., 0., 0.],\n",
      "        [1., 0., 0., 0.],\n",
      "        [1., 0., 0., 0.],\n",
      "        [1., 0., 0., 0.],\n",
      "        [1., 0., 0., 0.],\n",
      "        [1., 0., 0., 0.]]))\n",
      "('y', tensor([[-1.0000, -0.7586, -0.5315,  0.5631,  0.5057, -0.9568,  0.3933,  1.0000,\n",
      "          1.0000,  1.0000,  1.0000, -0.9296,  0.4471,  0.4432,  0.4416,  0.4528,\n",
      "         -0.6055, -0.2836,  0.1106]]))\n",
      "('pos', tensor([[-1.8324e-05,  1.0919e-07, -1.8314e-05],\n",
      "        [ 1.3629e-02, -1.0000e+00, -5.5138e-03],\n",
      "        [ 9.3825e-01,  3.4622e-01, -7.0709e-03],\n",
      "        [-4.8371e-01,  3.3129e-01, -8.1024e-01],\n",
      "        [-4.6814e-01,  3.2249e-01,  8.2284e-01]]))\n",
      "('idx', tensor([0]))\n",
      "('name', 'gdb_1')\n",
      "('z', tensor([6, 1, 1, 1, 1]))\n"
     ]
    }
   ],
   "source": [
    "for t in x2:\n",
    "    print(t)"
   ]
  },
  {
   "cell_type": "code",
   "execution_count": 81,
   "metadata": {},
   "outputs": [
    {
     "data": {
      "image/png": "[encoded data removed]",
      "text/plain": [
       "<Figure size 640x480 with 1 Axes>"
      ]
     },
     "metadata": {},
     "output_type": "display_data"
    }
   ],
   "source": [
    "import networkx as nx\n",
    "import torch_geometric\n",
    "\n",
    "g = torch_geometric.utils.to_networkx(x, to_undirected=True)\n",
    "nx.draw(g)"
   ]
  },
  {
   "cell_type": "code",
   "execution_count": null,
   "metadata": {},
   "outputs": [],
   "source": []
  },
  {
   "cell_type": "markdown",
   "metadata": {},
   "source": [
    "Model with global readout."
   ]
  },
  {
   "cell_type": "code",
   "execution_count": 82,
   "metadata": {},
   "outputs": [],
   "source": [
    "lr = 0.01"
   ]
  },
  {
   "cell_type": "code",
   "execution_count": 83,
   "metadata": {},
   "outputs": [],
   "source": [
    "import torch\n",
    "import torch.nn as nn\n",
    "import torch.nn.functional as F\n",
    "\n",
    "from torch_geometric.nn import global_mean_pool, GCNConv\n",
    "\n",
    "\n",
    "# Create a DataLoader for the filtered dataset\n",
    "batch_size = 64\n",
    "dataloader = DataLoader(filtered_dataset, batch_size=batch_size, shuffle=True)\n",
    "\n",
    "# Define a simple Graph Neural Network (GNN) model\n",
    "class GNNModel(nn.Module):\n",
    "    def __init__(self, num_features, hidden_dim):\n",
    "        super(GNNModel, self).__init__()\n",
    "        self.conv1 = GCNConv(num_features, hidden_dim)\n",
    "        self.fc1 = nn.Linear(hidden_dim, hidden_dim)\n",
    "        self.fc2 = nn.Linear(hidden_dim, 1)\n",
    "\n",
    "    def forward(self, data):\n",
    "        x, edge_index, batch = data.x, data.edge_index, data.batch\n",
    "        x = F.relu(self.conv1(x, edge_index))\n",
    "        x = global_mean_pool(x, batch)\n",
    "        x = F.relu(self.fc1(x))\n",
    "        x = self.fc2(x)\n",
    "        return x\n",
    "\n",
    "# Initialize and train the GNN model\n",
    "model = GNNModel(filtered_dataset[0].num_features, hidden_dim=10)\n",
    "optimizer = torch.optim.Adam(model.parameters(), lr=lr)\n",
    "criterion = nn.MSELoss()\n"
   ]
  },
  {
   "cell_type": "code",
   "execution_count": 84,
   "metadata": {},
   "outputs": [
    {
     "name": "stdout",
     "output_type": "stream",
     "text": [
      "number of parameters is  181\n"
     ]
    }
   ],
   "source": [
    "n_params = sum([p.numel() for p in model.parameters()])\n",
    "print(\"number of parameters is \", n_params)"
   ]
  },
  {
   "cell_type": "code",
   "execution_count": 85,
   "metadata": {},
   "outputs": [
    {
     "data": {
      "text/html": [
       "Finishing last run (ID:uqwoikcz) before initializing another..."
      ],
      "text/plain": [
       "<IPython.core.display.HTML object>"
      ]
     },
     "metadata": {},
     "output_type": "display_data"
    },
    {
     "name": "stderr",
     "output_type": "stream",
     "text": [
      "wandb: WARNING Source type is set to 'repo' but some required information is missing from the environment. A job will not be created from this run. See https://docs.wandb.ai/guides/launch/create-job\n"
     ]
    },
    {
     "data": {
      "application/vnd.jupyter.widget-view+json": {
       "model_id": "c00dfb8c21264b32a08523aaaa0f00b7",
       "version_major": 2,
       "version_minor": 0
      },
      "text/plain": [
       "VBox(children=(Label(value='0.015 MB of 0.015 MB uploaded\\r'), FloatProgress(value=1.0, max=1.0)))"
      ]
     },
     "metadata": {},
     "output_type": "display_data"
    },
    {
     "data": {
      "text/html": [
       "<style>\n",
       "    table.wandb td:nth-child(1) { padding: 0 10px; text-align: left ; width: auto;} td:nth-child(2) {text-align: left ; width: 100%}\n",
       "    .wandb-row { display: flex; flex-direction: row; flex-wrap: wrap; justify-content: flex-start; width: 100% }\n",
       "    .wandb-col { display: flex; flex-direction: column; flex-basis: 100%; flex: 1; padding: 10px; }\n",
       "    </style>\n",
       "<div class=\"wandb-row\"><div class=\"wandb-col\"><h3>Run history:</h3><br/><table class=\"wandb\"><tr><td>epoch</td><td>▁█</td></tr><tr><td>loss</td><td>█▁</td></tr></table><br/></div><div class=\"wandb-col\"><h3>Run summary:</h3><br/><table class=\"wandb\"><tr><td>epoch</td><td>2</td></tr><tr><td>loss</td><td>3.66278</td></tr></table><br/></div></div>"
      ],
      "text/plain": [
       "<IPython.core.display.HTML object>"
      ]
     },
     "metadata": {},
     "output_type": "display_data"
    },
    {
     "data": {
      "text/html": [
       " View run <strong style=\"color:#cdcd00\">happy-cloud-8</strong> at: <a href='https://wandb.ai/amirfvb/graphQNN/runs/uqwoikcz' target=\"_blank\">https://wandb.ai/amirfvb/graphQNN/runs/uqwoikcz</a><br/>Synced 7 W&B file(s), 0 media file(s), 0 artifact file(s) and 0 other file(s)"
      ],
      "text/plain": [
       "<IPython.core.display.HTML object>"
      ]
     },
     "metadata": {},
     "output_type": "display_data"
    },
    {
     "data": {
      "text/html": [
       "Find logs at: <code>./wandb/run-20231113_140015-uqwoikcz/logs</code>"
      ],
      "text/plain": [
       "<IPython.core.display.HTML object>"
      ]
     },
     "metadata": {},
     "output_type": "display_data"
    },
    {
     "data": {
      "text/html": [
       "Successfully finished last run (ID:uqwoikcz). Initializing new run:<br/>"
      ],
      "text/plain": [
       "<IPython.core.display.HTML object>"
      ]
     },
     "metadata": {},
     "output_type": "display_data"
    },
    {
     "data": {
      "application/vnd.jupyter.widget-view+json": {
       "model_id": "8052004577214237a4948763104cedda",
       "version_major": 2,
       "version_minor": 0
      },
      "text/plain": [
       "VBox(children=(Label(value='Waiting for wandb.init()...\\r'), FloatProgress(value=0.011113465101354652, max=1.0…"
      ]
     },
     "metadata": {},
     "output_type": "display_data"
    },
    {
     "data": {
      "text/html": [
       "Tracking run with wandb version 0.16.0"
      ],
      "text/plain": [
       "<IPython.core.display.HTML object>"
      ]
     },
     "metadata": {},
     "output_type": "display_data"
    },
    {
     "data": {
      "text/html": [
       "Run data is saved locally in <code>/home/coder/project/wandb/run-20231113_143512-23frs6q6</code>"
      ],
      "text/plain": [
       "<IPython.core.display.HTML object>"
      ]
     },
     "metadata": {},
     "output_type": "display_data"
    },
    {
     "data": {
      "text/html": [
       "Syncing run <strong><a href='https://wandb.ai/amirfvb/graphQNN/runs/23frs6q6' target=\"_blank\">polar-haze-9</a></strong> to <a href='https://wandb.ai/amirfvb/graphQNN' target=\"_blank\">Weights & Biases</a> (<a href='https://wandb.me/run' target=\"_blank\">docs</a>)<br/>"
      ],
      "text/plain": [
       "<IPython.core.display.HTML object>"
      ]
     },
     "metadata": {},
     "output_type": "display_data"
    },
    {
     "data": {
      "text/html": [
       " View project at <a href='https://wandb.ai/amirfvb/graphQNN' target=\"_blank\">https://wandb.ai/amirfvb/graphQNN</a>"
      ],
      "text/plain": [
       "<IPython.core.display.HTML object>"
      ]
     },
     "metadata": {},
     "output_type": "display_data"
    },
    {
     "data": {
      "text/html": [
       " View run at <a href='https://wandb.ai/amirfvb/graphQNN/runs/23frs6q6' target=\"_blank\">https://wandb.ai/amirfvb/graphQNN/runs/23frs6q6</a>"
      ],
      "text/plain": [
       "<IPython.core.display.HTML object>"
      ]
     },
     "metadata": {},
     "output_type": "display_data"
    }
   ],
   "source": [
    "run = wandb.init(\n",
    "    # Set the project where this run will be logged\n",
    "    project=wandb_prj_name,\n",
    "    # Track hyperparameters and run metadata\n",
    "    config={\n",
    "        \"learning_rate\": lr,\n",
    "        \"n_params\": n_params,\n",
    "        \"model\": \"classical\",\n",
    "        \"num_nodes\": max_nodes,\n",
    "        \"batch_size\": batch_size,\n",
    "    })"
   ]
  },
  {
   "cell_type": "code",
   "execution_count": 86,
   "metadata": {},
   "outputs": [
    {
     "name": "stdout",
     "output_type": "stream",
     "text": [
      "Epoch 1/300, Loss: 0.4863\n",
      "Epoch 2/300, Loss: 0.4556\n",
      "Epoch 3/300, Loss: 0.4287\n",
      "Epoch 4/300, Loss: 0.4063\n",
      "Epoch 5/300, Loss: 0.3878\n",
      "Epoch 6/300, Loss: 0.3721\n",
      "Epoch 7/300, Loss: 0.3592\n",
      "Epoch 8/300, Loss: 0.3489\n",
      "Epoch 9/300, Loss: 0.3406\n",
      "Epoch 10/300, Loss: 0.3348\n",
      "Epoch 11/300, Loss: 0.3315\n",
      "Epoch 12/300, Loss: 0.3307\n",
      "Epoch 13/300, Loss: 0.3319\n",
      "Epoch 14/300, Loss: 0.3342\n",
      "Epoch 15/300, Loss: 0.3363\n",
      "Epoch 16/300, Loss: 0.3376\n",
      "Epoch 17/300, Loss: 0.3378\n",
      "Epoch 18/300, Loss: 0.3370\n",
      "Epoch 19/300, Loss: 0.3354\n",
      "Epoch 20/300, Loss: 0.3334\n",
      "Epoch 21/300, Loss: 0.3313\n",
      "Epoch 22/300, Loss: 0.3295\n",
      "Epoch 23/300, Loss: 0.3281\n",
      "Epoch 24/300, Loss: 0.3270\n",
      "Epoch 25/300, Loss: 0.3262\n",
      "Epoch 26/300, Loss: 0.3258\n",
      "Epoch 27/300, Loss: 0.3256\n",
      "Epoch 28/300, Loss: 0.3256\n",
      "Epoch 29/300, Loss: 0.3256\n",
      "Epoch 30/300, Loss: 0.3256\n",
      "Epoch 31/300, Loss: 0.3254\n",
      "Epoch 32/300, Loss: 0.3252\n",
      "Epoch 33/300, Loss: 0.3248\n",
      "Epoch 34/300, Loss: 0.3243\n",
      "Epoch 35/300, Loss: 0.3237\n",
      "Epoch 36/300, Loss: 0.3230\n",
      "Epoch 37/300, Loss: 0.3223\n",
      "Epoch 38/300, Loss: 0.3216\n",
      "Epoch 39/300, Loss: 0.3209\n",
      "Epoch 40/300, Loss: 0.3202\n",
      "Epoch 41/300, Loss: 0.3196\n",
      "Epoch 42/300, Loss: 0.3190\n",
      "Epoch 43/300, Loss: 0.3185\n",
      "Epoch 44/300, Loss: 0.3179\n",
      "Epoch 45/300, Loss: 0.3173\n",
      "Epoch 46/300, Loss: 0.3166\n",
      "Epoch 47/300, Loss: 0.3159\n",
      "Epoch 48/300, Loss: 0.3151\n",
      "Epoch 49/300, Loss: 0.3143\n",
      "Epoch 50/300, Loss: 0.3135\n",
      "Epoch 51/300, Loss: 0.3127\n",
      "Epoch 52/300, Loss: 0.3119\n",
      "Epoch 53/300, Loss: 0.3111\n",
      "Epoch 54/300, Loss: 0.3103\n",
      "Epoch 55/300, Loss: 0.3095\n",
      "Epoch 56/300, Loss: 0.3086\n",
      "Epoch 57/300, Loss: 0.3079\n",
      "Epoch 58/300, Loss: 0.3072\n",
      "Epoch 59/300, Loss: 0.3065\n",
      "Epoch 60/300, Loss: 0.3059\n",
      "Epoch 61/300, Loss: 0.3053\n",
      "Epoch 62/300, Loss: 0.3046\n",
      "Epoch 63/300, Loss: 0.3040\n",
      "Epoch 64/300, Loss: 0.3033\n",
      "Epoch 65/300, Loss: 0.3026\n",
      "Epoch 66/300, Loss: 0.3019\n",
      "Epoch 67/300, Loss: 0.3012\n",
      "Epoch 68/300, Loss: 0.3005\n",
      "Epoch 69/300, Loss: 0.2997\n",
      "Epoch 70/300, Loss: 0.2988\n",
      "Epoch 71/300, Loss: 0.2980\n",
      "Epoch 72/300, Loss: 0.2971\n",
      "Epoch 73/300, Loss: 0.2961\n",
      "Epoch 74/300, Loss: 0.2951\n",
      "Epoch 75/300, Loss: 0.2940\n",
      "Epoch 76/300, Loss: 0.2928\n",
      "Epoch 77/300, Loss: 0.2916\n",
      "Epoch 78/300, Loss: 0.2903\n",
      "Epoch 79/300, Loss: 0.2889\n",
      "Epoch 80/300, Loss: 0.2875\n",
      "Epoch 81/300, Loss: 0.2860\n",
      "Epoch 82/300, Loss: 0.2845\n",
      "Epoch 83/300, Loss: 0.2828\n",
      "Epoch 84/300, Loss: 0.2811\n",
      "Epoch 85/300, Loss: 0.2795\n",
      "Epoch 86/300, Loss: 0.2778\n",
      "Epoch 87/300, Loss: 0.2760\n",
      "Epoch 88/300, Loss: 0.2742\n",
      "Epoch 89/300, Loss: 0.2723\n",
      "Epoch 90/300, Loss: 0.2703\n",
      "Epoch 91/300, Loss: 0.2682\n",
      "Epoch 92/300, Loss: 0.2660\n",
      "Epoch 93/300, Loss: 0.2638\n",
      "Epoch 94/300, Loss: 0.2615\n",
      "Epoch 95/300, Loss: 0.2592\n",
      "Epoch 96/300, Loss: 0.2567\n",
      "Epoch 97/300, Loss: 0.2543\n",
      "Epoch 98/300, Loss: 0.2517\n",
      "Epoch 99/300, Loss: 0.2490\n",
      "Epoch 100/300, Loss: 0.2462\n",
      "Epoch 101/300, Loss: 0.2435\n",
      "Epoch 102/300, Loss: 0.2406\n",
      "Epoch 103/300, Loss: 0.2376\n",
      "Epoch 104/300, Loss: 0.2346\n",
      "Epoch 105/300, Loss: 0.2314\n",
      "Epoch 106/300, Loss: 0.2285\n",
      "Epoch 107/300, Loss: 0.2251\n",
      "Epoch 108/300, Loss: 0.2218\n",
      "Epoch 109/300, Loss: 0.2186\n",
      "Epoch 110/300, Loss: 0.2155\n",
      "Epoch 111/300, Loss: 0.2122\n",
      "Epoch 112/300, Loss: 0.2087\n",
      "Epoch 113/300, Loss: 0.2056\n",
      "Epoch 114/300, Loss: 0.2032\n",
      "Epoch 115/300, Loss: 0.2002\n",
      "Epoch 116/300, Loss: 0.1975\n",
      "Epoch 117/300, Loss: 0.1949\n",
      "Epoch 118/300, Loss: 0.1921\n",
      "Epoch 119/300, Loss: 0.1891\n",
      "Epoch 120/300, Loss: 0.1866\n",
      "Epoch 121/300, Loss: 0.1838\n",
      "Epoch 122/300, Loss: 0.1807\n",
      "Epoch 123/300, Loss: 0.1775\n",
      "Epoch 124/300, Loss: 0.1743\n",
      "Epoch 125/300, Loss: 0.1717\n",
      "Epoch 126/300, Loss: 0.1693\n",
      "Epoch 127/300, Loss: 0.1664\n",
      "Epoch 128/300, Loss: 0.1638\n",
      "Epoch 129/300, Loss: 0.1615\n",
      "Epoch 130/300, Loss: 0.1587\n",
      "Epoch 131/300, Loss: 0.1566\n",
      "Epoch 132/300, Loss: 0.1533\n",
      "Epoch 133/300, Loss: 0.1494\n",
      "Epoch 134/300, Loss: 0.1465\n",
      "Epoch 135/300, Loss: 0.1441\n",
      "Epoch 136/300, Loss: 0.1418\n",
      "Epoch 137/300, Loss: 0.1401\n",
      "Epoch 138/300, Loss: 0.1381\n",
      "Epoch 139/300, Loss: 0.1358\n",
      "Epoch 140/300, Loss: 0.1339\n",
      "Epoch 141/300, Loss: 0.1317\n",
      "Epoch 142/300, Loss: 0.1298\n",
      "Epoch 143/300, Loss: 0.1279\n",
      "Epoch 144/300, Loss: 0.1261\n",
      "Epoch 145/300, Loss: 0.1247\n",
      "Epoch 146/300, Loss: 0.1238\n",
      "Epoch 147/300, Loss: 0.1223\n",
      "Epoch 148/300, Loss: 0.1208\n",
      "Epoch 149/300, Loss: 0.1196\n",
      "Epoch 150/300, Loss: 0.1183\n",
      "Epoch 151/300, Loss: 0.1172\n",
      "Epoch 152/300, Loss: 0.1158\n",
      "Epoch 153/300, Loss: 0.1145\n",
      "Epoch 154/300, Loss: 0.1133\n",
      "Epoch 155/300, Loss: 0.1122\n",
      "Epoch 156/300, Loss: 0.1111\n",
      "Epoch 157/300, Loss: 0.1100\n",
      "Epoch 158/300, Loss: 0.1094\n",
      "Epoch 159/300, Loss: 0.1083\n",
      "Epoch 160/300, Loss: 0.1074\n",
      "Epoch 161/300, Loss: 0.1067\n",
      "Epoch 162/300, Loss: 0.1059\n",
      "Epoch 163/300, Loss: 0.1050\n",
      "Epoch 164/300, Loss: 0.1044\n",
      "Epoch 165/300, Loss: 0.1040\n",
      "Epoch 166/300, Loss: 0.1031\n",
      "Epoch 167/300, Loss: 0.1027\n",
      "Epoch 168/300, Loss: 0.1022\n",
      "Epoch 169/300, Loss: 0.1015\n",
      "Epoch 170/300, Loss: 0.1011\n",
      "Epoch 171/300, Loss: 0.1006\n",
      "Epoch 172/300, Loss: 0.0999\n",
      "Epoch 173/300, Loss: 0.0999\n",
      "Epoch 174/300, Loss: 0.0997\n",
      "Epoch 175/300, Loss: 0.0990\n",
      "Epoch 176/300, Loss: 0.0985\n",
      "Epoch 177/300, Loss: 0.0983\n",
      "Epoch 178/300, Loss: 0.0977\n",
      "Epoch 179/300, Loss: 0.0974\n",
      "Epoch 180/300, Loss: 0.0972\n",
      "Epoch 181/300, Loss: 0.0968\n",
      "Epoch 182/300, Loss: 0.0963\n",
      "Epoch 183/300, Loss: 0.0960\n",
      "Epoch 184/300, Loss: 0.0956\n",
      "Epoch 185/300, Loss: 0.0955\n",
      "Epoch 186/300, Loss: 0.0953\n",
      "Epoch 187/300, Loss: 0.0948\n",
      "Epoch 188/300, Loss: 0.0946\n",
      "Epoch 189/300, Loss: 0.0945\n",
      "Epoch 190/300, Loss: 0.0941\n",
      "Epoch 191/300, Loss: 0.0936\n",
      "Epoch 192/300, Loss: 0.0935\n",
      "Epoch 193/300, Loss: 0.0931\n",
      "Epoch 194/300, Loss: 0.0927\n",
      "Epoch 195/300, Loss: 0.0926\n",
      "Epoch 196/300, Loss: 0.0923\n",
      "Epoch 197/300, Loss: 0.0919\n",
      "Epoch 198/300, Loss: 0.0918\n",
      "Epoch 199/300, Loss: 0.0917\n",
      "Epoch 200/300, Loss: 0.0915\n",
      "Epoch 201/300, Loss: 0.0913\n",
      "Epoch 202/300, Loss: 0.0913\n",
      "Epoch 203/300, Loss: 0.0912\n",
      "Epoch 204/300, Loss: 0.0909\n",
      "Epoch 205/300, Loss: 0.0908\n",
      "Epoch 206/300, Loss: 0.0907\n",
      "Epoch 207/300, Loss: 0.0905\n",
      "Epoch 208/300, Loss: 0.0905\n",
      "Epoch 209/300, Loss: 0.0903\n",
      "Epoch 210/300, Loss: 0.0903\n",
      "Epoch 211/300, Loss: 0.0902\n",
      "Epoch 212/300, Loss: 0.0900\n",
      "Epoch 213/300, Loss: 0.0900\n",
      "Epoch 214/300, Loss: 0.0898\n",
      "Epoch 215/300, Loss: 0.0898\n",
      "Epoch 216/300, Loss: 0.0897\n",
      "Epoch 217/300, Loss: 0.0896\n",
      "Epoch 218/300, Loss: 0.0895\n",
      "Epoch 219/300, Loss: 0.0896\n",
      "Epoch 220/300, Loss: 0.0894\n",
      "Epoch 221/300, Loss: 0.0895\n",
      "Epoch 222/300, Loss: 0.0894\n",
      "Epoch 223/300, Loss: 0.0892\n",
      "Epoch 224/300, Loss: 0.0891\n",
      "Epoch 225/300, Loss: 0.0891\n",
      "Epoch 226/300, Loss: 0.0890\n",
      "Epoch 227/300, Loss: 0.0889\n",
      "Epoch 228/300, Loss: 0.0888\n",
      "Epoch 229/300, Loss: 0.0888\n",
      "Epoch 230/300, Loss: 0.0887\n",
      "Epoch 231/300, Loss: 0.0885\n",
      "Epoch 232/300, Loss: 0.0887\n",
      "Epoch 233/300, Loss: 0.0885\n",
      "Epoch 234/300, Loss: 0.0882\n",
      "Epoch 235/300, Loss: 0.0885\n",
      "Epoch 236/300, Loss: 0.0884\n",
      "Epoch 237/300, Loss: 0.0881\n",
      "Epoch 238/300, Loss: 0.0883\n",
      "Epoch 239/300, Loss: 0.0882\n",
      "Epoch 240/300, Loss: 0.0878\n",
      "Epoch 241/300, Loss: 0.0880\n",
      "Epoch 242/300, Loss: 0.0880\n",
      "Epoch 243/300, Loss: 0.0877\n",
      "Epoch 244/300, Loss: 0.0877\n",
      "Epoch 245/300, Loss: 0.0877\n",
      "Epoch 246/300, Loss: 0.0875\n",
      "Epoch 247/300, Loss: 0.0874\n",
      "Epoch 248/300, Loss: 0.0874\n",
      "Epoch 249/300, Loss: 0.0872\n",
      "Epoch 250/300, Loss: 0.0871\n",
      "Epoch 251/300, Loss: 0.0870\n",
      "Epoch 252/300, Loss: 0.0870\n",
      "Epoch 253/300, Loss: 0.0869\n",
      "Epoch 254/300, Loss: 0.0868\n",
      "Epoch 255/300, Loss: 0.0869\n",
      "Epoch 256/300, Loss: 0.0866\n",
      "Epoch 257/300, Loss: 0.0868\n",
      "Epoch 258/300, Loss: 0.0867\n",
      "Epoch 259/300, Loss: 0.0865\n",
      "Epoch 260/300, Loss: 0.0867\n",
      "Epoch 261/300, Loss: 0.0866\n",
      "Epoch 262/300, Loss: 0.0863\n",
      "Epoch 263/300, Loss: 0.0865\n",
      "Epoch 264/300, Loss: 0.0865\n",
      "Epoch 265/300, Loss: 0.0861\n",
      "Epoch 266/300, Loss: 0.0863\n",
      "Epoch 267/300, Loss: 0.0865\n",
      "Epoch 268/300, Loss: 0.0862\n",
      "Epoch 269/300, Loss: 0.0858\n",
      "Epoch 270/300, Loss: 0.0862\n",
      "Epoch 271/300, Loss: 0.0861\n",
      "Epoch 272/300, Loss: 0.0856\n",
      "Epoch 273/300, Loss: 0.0857\n",
      "Epoch 274/300, Loss: 0.0856\n",
      "Epoch 275/300, Loss: 0.0855\n",
      "Epoch 276/300, Loss: 0.0856\n",
      "Epoch 277/300, Loss: 0.0855\n",
      "Epoch 278/300, Loss: 0.0852\n",
      "Epoch 279/300, Loss: 0.0852\n",
      "Epoch 280/300, Loss: 0.0851\n",
      "Epoch 281/300, Loss: 0.0851\n",
      "Epoch 282/300, Loss: 0.0850\n",
      "Epoch 283/300, Loss: 0.0848\n",
      "Epoch 284/300, Loss: 0.0848\n",
      "Epoch 285/300, Loss: 0.0847\n",
      "Epoch 286/300, Loss: 0.0846\n",
      "Epoch 287/300, Loss: 0.0845\n",
      "Epoch 288/300, Loss: 0.0845\n",
      "Epoch 289/300, Loss: 0.0845\n",
      "Epoch 290/300, Loss: 0.0843\n",
      "Epoch 291/300, Loss: 0.0844\n",
      "Epoch 292/300, Loss: 0.0843\n",
      "Epoch 293/300, Loss: 0.0843\n",
      "Epoch 294/300, Loss: 0.0844\n",
      "Epoch 295/300, Loss: 0.0841\n",
      "Epoch 296/300, Loss: 0.0839\n",
      "Epoch 297/300, Loss: 0.0843\n",
      "Epoch 298/300, Loss: 0.0841\n",
      "Epoch 299/300, Loss: 0.0838\n",
      "Epoch 300/300, Loss: 0.0838\n"
     ]
    },
    {
     "name": "stderr",
     "output_type": "stream",
     "text": [
      "wandb: WARNING Source type is set to 'repo' but some required information is missing from the environment. A job will not be created from this run. See https://docs.wandb.ai/guides/launch/create-job\n"
     ]
    },
    {
     "data": {
      "application/vnd.jupyter.widget-view+json": {
       "model_id": "3f74b0b09879496a9dd49953371a7bae",
       "version_major": 2,
       "version_minor": 0
      },
      "text/plain": [
       "VBox(children=(Label(value='0.015 MB of 0.015 MB uploaded\\r'), FloatProgress(value=1.0, max=1.0)))"
      ]
     },
     "metadata": {},
     "output_type": "display_data"
    },
    {
     "data": {
      "text/html": [
       "<style>\n",
       "    table.wandb td:nth-child(1) { padding: 0 10px; text-align: left ; width: auto;} td:nth-child(2) {text-align: left ; width: 100%}\n",
       "    .wandb-row { display: flex; flex-direction: row; flex-wrap: wrap; justify-content: flex-start; width: 100% }\n",
       "    .wandb-col { display: flex; flex-direction: column; flex-basis: 100%; flex: 1; padding: 10px; }\n",
       "    </style>\n",
       "<div class=\"wandb-row\"><div class=\"wandb-col\"><h3>Run history:</h3><br/><table class=\"wandb\"><tr><td>epoch</td><td>▁▁▁▁▂▂▂▂▂▃▃▃▃▃▃▄▄▄▄▄▅▅▅▅▅▅▆▆▆▆▆▆▇▇▇▇▇███</td></tr><tr><td>loss</td><td>█▇▇▆▆▆▆▆▆▆▆▅▅▅▄▃▃▃▂▂▂▂▁▁▁▁▁▁▁▁▁▁▁▁▁▁▁▁▁▁</td></tr></table><br/></div><div class=\"wandb-col\"><h3>Run summary:</h3><br/><table class=\"wandb\"><tr><td>epoch</td><td>300</td></tr><tr><td>loss</td><td>0.08384</td></tr></table><br/></div></div>"
      ],
      "text/plain": [
       "<IPython.core.display.HTML object>"
      ]
     },
     "metadata": {},
     "output_type": "display_data"
    },
    {
     "data": {
      "text/html": [
       " View run <strong style=\"color:#cdcd00\">polar-haze-9</strong> at: <a href='https://wandb.ai/amirfvb/graphQNN/runs/23frs6q6' target=\"_blank\">https://wandb.ai/amirfvb/graphQNN/runs/23frs6q6</a><br/>Synced 7 W&B file(s), 0 media file(s), 0 artifact file(s) and 0 other file(s)"
      ],
      "text/plain": [
       "<IPython.core.display.HTML object>"
      ]
     },
     "metadata": {},
     "output_type": "display_data"
    },
    {
     "data": {
      "text/html": [
       "Find logs at: <code>./wandb/run-20231113_143512-23frs6q6/logs</code>"
      ],
      "text/plain": [
       "<IPython.core.display.HTML object>"
      ]
     },
     "metadata": {},
     "output_type": "display_data"
    }
   ],
   "source": [
    "\n",
    "# Training loop\n",
    "num_epochs = 300\n",
    "for epoch in range(num_epochs):\n",
    "    model.train()\n",
    "    total_loss = 0\n",
    "    for data in dataloader:\n",
    "        optimizer.zero_grad()\n",
    "        output = model(data)\n",
    "        loss = criterion(output, data.y[:, 0:1].float())\n",
    "        loss.backward()\n",
    "        optimizer.step()\n",
    "        total_loss += loss.item()\n",
    "    avg_loss = total_loss / len(dataloader)\n",
    "    print(f'Epoch {epoch + 1}/{num_epochs}, Loss: {avg_loss:.4f}')\n",
    "    wandb.log({\"epoch\": epoch+1, \"loss\": avg_loss})\n",
    "\n",
    "# Save the trained model\n",
    "# torch.save(model.state_dict(), 'gnn_model.pth')\n",
    "wandb.finish()"
   ]
  },
  {
   "cell_type": "code",
   "execution_count": null,
   "metadata": {},
   "outputs": [],
   "source": [
    "# wandb.finish()"
   ]
  },
  {
   "cell_type": "code",
   "execution_count": 30,
   "metadata": {},
   "outputs": [
    {
     "data": {
      "text/plain": [
       "43"
      ]
     },
     "execution_count": 30,
     "metadata": {},
     "output_type": "execute_result"
    }
   ],
   "source": [
    "len(filtered_dataset)"
   ]
  },
  {
   "cell_type": "code",
   "execution_count": 31,
   "metadata": {},
   "outputs": [],
   "source": [
    "x = dataset[0]"
   ]
  },
  {
   "cell_type": "code",
   "execution_count": 32,
   "metadata": {},
   "outputs": [
    {
     "data": {
      "image/png": "[encoded data removed]",
      "text/plain": [
       "<Figure size 640x480 with 1 Axes>"
      ]
     },
     "metadata": {},
     "output_type": "display_data"
    }
   ],
   "source": [
    "import matplotlib.pyplot as plt\n",
    "\n",
    "nodes = [x.num_edges for x in dataset]\n",
    "\n",
    "plt.hist(nodes, bins=10, range=(0, 10));"
   ]
  },
  {
   "cell_type": "markdown",
   "metadata": {},
   "source": [
    "## Quantum Network"
   ]
  },
  {
   "cell_type": "code",
   "execution_count": 39,
   "metadata": {},
   "outputs": [],
   "source": [
    "#params\n",
    "# max_nodes = "
   ]
  },
  {
   "cell_type": "code",
   "execution_count": 6,
   "metadata": {},
   "outputs": [],
   "source": [
    "import pennylane as qml\n",
    "import pennylane.numpy as np"
   ]
  },
  {
   "cell_type": "code",
   "execution_count": 7,
   "metadata": {},
   "outputs": [],
   "source": [
    "# final stage\n",
    "from typing import Literal\n",
    "\n",
    "def encoding_layer(values):\n",
    "    \"\"\"\n",
    "    pooling layer, that encodes params, or edge features in nodes\n",
    "\n",
    "    values: [num nodes] tensor\n",
    "    \"\"\"\n",
    "    for w in range(values.shape[0]):\n",
    "        qml.RX(values[w], w)\n",
    "\n",
    "def edged_entengling_layer(edge_index, rot_param):\n",
    "    for i in range(edge_index.shape[1]):\n",
    "        qml.IsingYY(rot_param, wires=[edge_index[0,i], edge_index[1,i]])\n",
    "\n",
    "def measurement(n_qubits):\n",
    "    return [qml.expval(qml.PauliZ(i)) for i in range(n_qubits)]\n",
    "\n",
    "def parametrised_rotations(angles, wires):\n",
    "    for w in wires:\n",
    "        qml.Rot(*angles, w)\n",
    "    \n",
    "\n",
    "n_layers = 3\n",
    "def circuit(inputs, params, edge_weights, atoms_weight: list[5]):\n",
    "    data = inputs\n",
    "    num_atoms = data.x.shape[0]\n",
    "    atom_embeddings = data.x @ atoms_weight   # [num_atoms, 5] * [5] -> [num_atoms]\n",
    "    # assert atom_embeddings.shape == (1,)\n",
    "    edge_index = data.edge_index\n",
    "    for l in range(n_layers):\n",
    "        encoding_layer(atom_embeddings)\n",
    "        parametrised_rotations(params[2*l], wires=range(num_atoms))\n",
    "        edged_entengling_layer(edge_index, edge_weights[l])\n",
    "        parametrised_rotations(params[2*l+1], wires=range(num_atoms))\n",
    "    return measurement(num_atoms)\n",
    "\n",
    "class QuantumGNN(nn.Module):\n",
    "    def init_weight(self, weights_shape):\n",
    "        weights = {}\n",
    "        for name, shape in weights_shape.items():\n",
    "            t = torch.nn.Parameter(torch.rand(*shape, requires_grad=True).float()*2*np.pi, requires_grad=True)\n",
    "            self.register_parameter(name, t)\n",
    "            weights[name] = t\n",
    "        return weights\n",
    "    def __init__(self, readout: Literal[\"global\", \"local\"], max_qubits: int):\n",
    "        super().__init__()\n",
    "        device = qml.device(\"lightning.qubit\", wires=max_qubits)\n",
    "        self.qnode = qml.QNode(circuit, device)\n",
    "        weights_shape = {\"params\": [2*n_layers, 3], \"edge_weights\":[n_layers], \"atoms_weight\": [5]}\n",
    "\n",
    "        self.qnode_weights = self.init_weight(weights_shape)\n",
    "        \n",
    "        self.qlayer = qml.qnn.TorchLayer(self.qnode, weights_shape)\n",
    "    \n",
    "    def forward(self, batch):\n",
    "        # print(batch)\n",
    "        results = []\n",
    "        for i in range(len(batch)):\n",
    "            g = batch[i]\n",
    "            # print(g)\n",
    "            exps = self.qnode(g, **self.qnode_weights)\n",
    "            exps = torch.stack(exps).float()\n",
    "            # print(exps)\n",
    "            # assert exps.shape == (g.num_atoms\n",
    "            avgs = torch.mean(exps, axis=0, keepdim=True)\n",
    "            results.append(avgs)\n",
    "        out_tensor = torch.stack(results)    \n",
    "        return out_tensor"
   ]
  },
  {
   "cell_type": "code",
   "execution_count": 8,
   "metadata": {},
   "outputs": [
    {
     "name": "stdout",
     "output_type": "stream",
     "text": [
      "number of parameters is  52\n"
     ]
    }
   ],
   "source": [
    "model = QuantumGNN('global', max_nodes)\n",
    "n_params = sum([p.numel() for p in model.parameters()])\n",
    "print(\"number of parameters is \", n_params)"
   ]
  },
  {
   "cell_type": "code",
   "execution_count": 10,
   "metadata": {},
   "outputs": [
    {
     "data": {
      "text/html": [
       "Tracking run with wandb version 0.16.0"
      ],
      "text/plain": [
       "<IPython.core.display.HTML object>"
      ]
     },
     "metadata": {},
     "output_type": "display_data"
    },
    {
     "data": {
      "text/html": [
       "Run data is saved locally in <code>/home/coder/project/wandb/run-20231113_201721-94he519f</code>"
      ],
      "text/plain": [
       "<IPython.core.display.HTML object>"
      ]
     },
     "metadata": {},
     "output_type": "display_data"
    },
    {
     "data": {
      "text/html": [
       "Syncing run <strong><a href='https://wandb.ai/amirfvb/graphQNN/runs/94he519f' target=\"_blank\">hearty-tree-11</a></strong> to <a href='https://wandb.ai/amirfvb/graphQNN' target=\"_blank\">Weights & Biases</a> (<a href='https://wandb.me/run' target=\"_blank\">docs</a>)<br/>"
      ],
      "text/plain": [
       "<IPython.core.display.HTML object>"
      ]
     },
     "metadata": {},
     "output_type": "display_data"
    },
    {
     "data": {
      "text/html": [
       " View project at <a href='https://wandb.ai/amirfvb/graphQNN' target=\"_blank\">https://wandb.ai/amirfvb/graphQNN</a>"
      ],
      "text/plain": [
       "<IPython.core.display.HTML object>"
      ]
     },
     "metadata": {},
     "output_type": "display_data"
    },
    {
     "data": {
      "text/html": [
       " View run at <a href='https://wandb.ai/amirfvb/graphQNN/runs/94he519f' target=\"_blank\">https://wandb.ai/amirfvb/graphQNN/runs/94he519f</a>"
      ],
      "text/plain": [
       "<IPython.core.display.HTML object>"
      ]
     },
     "metadata": {},
     "output_type": "display_data"
    }
   ],
   "source": [
    "lr = 0.01\n",
    "batch_size = 1\n",
    "\n",
    "run = wandb.init(\n",
    "    # Set the project where this run will be logged\n",
    "    project=wandb_prj_name,\n",
    "    # Track hyperparameters and run metadata\n",
    "    config={\n",
    "        \"learning_rate\": lr,\n",
    "        \"n_params\": n_params//2, # todo fix this. Remove doublecheck of the params\n",
    "        \"model\": \"quantum\",\n",
    "        \"num_nodes\": max_nodes,\n",
    "        \"batch_size\": batch_size,\n",
    "    })"
   ]
  },
  {
   "cell_type": "code",
   "execution_count": 11,
   "metadata": {},
   "outputs": [
    {
     "data": {
      "application/vnd.jupyter.widget-view+json": {
       "model_id": "e771f67370904f0d9275a2499c46bb78",
       "version_major": 2,
       "version_minor": 0
      },
      "text/plain": [
       "  0%|          | 0/300 [00:00<?, ?it/s]"
      ]
     },
     "metadata": {},
     "output_type": "display_data"
    },
    {
     "name": "stdout",
     "output_type": "stream",
     "text": [
      "Epoch 1/300, Loss: 0.4423\n",
      "Epoch 2/300, Loss: 0.3663\n",
      "Epoch 3/300, Loss: 0.3497\n",
      "Epoch 4/300, Loss: 0.3367\n",
      "Epoch 5/300, Loss: 0.3296\n",
      "Epoch 6/300, Loss: 0.3269\n",
      "Epoch 7/300, Loss: 0.3492\n",
      "Epoch 8/300, Loss: 0.3361\n",
      "Epoch 9/300, Loss: 0.3234\n",
      "Epoch 10/300, Loss: 0.3304\n",
      "Epoch 11/300, Loss: 0.3179\n",
      "Epoch 12/300, Loss: 0.3310\n",
      "Epoch 13/300, Loss: 0.3305\n",
      "Epoch 14/300, Loss: 0.3193\n",
      "Epoch 15/300, Loss: 0.3165\n",
      "Epoch 16/300, Loss: 0.3240\n",
      "Epoch 17/300, Loss: 0.3183\n",
      "Epoch 18/300, Loss: 0.3215\n",
      "Epoch 19/300, Loss: 0.3391\n",
      "Epoch 20/300, Loss: 0.3204\n",
      "Epoch 21/300, Loss: 0.3379\n",
      "Epoch 22/300, Loss: 0.3165\n",
      "Epoch 23/300, Loss: 0.3198\n",
      "Epoch 24/300, Loss: 0.3058\n",
      "Epoch 25/300, Loss: 0.3149\n",
      "Epoch 26/300, Loss: 0.3205\n",
      "Epoch 27/300, Loss: 0.3108\n",
      "Epoch 28/300, Loss: 0.3135\n",
      "Epoch 29/300, Loss: 0.3084\n",
      "Epoch 30/300, Loss: 0.3109\n",
      "Epoch 31/300, Loss: 0.3065\n",
      "Epoch 32/300, Loss: 0.3089\n",
      "Epoch 33/300, Loss: 0.3057\n",
      "Epoch 34/300, Loss: 0.3157\n",
      "Epoch 35/300, Loss: 0.3125\n",
      "Epoch 36/300, Loss: 0.3057\n",
      "Epoch 37/300, Loss: 0.3131\n",
      "Epoch 38/300, Loss: 0.3112\n",
      "Epoch 39/300, Loss: 0.3105\n",
      "Epoch 40/300, Loss: 0.3131\n",
      "Epoch 41/300, Loss: 0.3054\n",
      "Epoch 42/300, Loss: 0.3059\n",
      "Epoch 43/300, Loss: 0.3057\n",
      "Epoch 44/300, Loss: 0.3074\n",
      "Epoch 45/300, Loss: 0.3043\n",
      "Epoch 46/300, Loss: 0.3137\n",
      "Epoch 47/300, Loss: 0.3049\n",
      "Epoch 48/300, Loss: 0.3119\n",
      "Epoch 49/300, Loss: 0.3143\n",
      "Epoch 50/300, Loss: 0.3186\n",
      "Epoch 51/300, Loss: 0.3221\n",
      "Epoch 52/300, Loss: 0.3087\n",
      "Epoch 53/300, Loss: 0.3019\n",
      "Epoch 54/300, Loss: 0.3083\n",
      "Epoch 55/300, Loss: 0.3044\n",
      "Epoch 56/300, Loss: 0.3076\n",
      "Epoch 57/300, Loss: 0.3139\n",
      "Epoch 58/300, Loss: 0.3048\n",
      "Epoch 59/300, Loss: 0.3021\n",
      "Epoch 60/300, Loss: 0.3052\n",
      "Epoch 61/300, Loss: 0.3049\n",
      "Epoch 62/300, Loss: 0.3109\n",
      "Epoch 63/300, Loss: 0.3140\n",
      "Epoch 64/300, Loss: 0.3069\n"
     ]
    }
   ],
   "source": [
    "from tqdm.auto import tqdm \n",
    "optimizer = torch.optim.Adam(model.parameters(), lr=lr)\n",
    "criterion = nn.MSELoss()\n",
    "\n",
    "# Create a DataLoader for the filtered dataset\n",
    "dataloader = DataLoader(filtered_dataset, batch_size=batch_size, shuffle=True)\n",
    "\n",
    "# Training loop\n",
    "num_epochs = 300\n",
    "for epoch in tqdm(range(num_epochs)):\n",
    "    model.train()\n",
    "    total_loss = 0\n",
    "    for data in dataloader:\n",
    "        # print([t[0] for t in model.parameters()])\n",
    "        optimizer.zero_grad()\n",
    "        output = model(data)\n",
    "        loss = criterion(output, data.y[:, 0:1].float())\n",
    "        loss.backward()\n",
    "        optimizer.step()\n",
    "        total_loss += loss.item()\n",
    "    avg_loss = total_loss / len(dataloader)\n",
    "    print(f'Epoch {epoch + 1}/{num_epochs}, Loss: {avg_loss:.4f}')\n",
    "    wandb.log({\"epoch\": epoch+1, \"loss\": avg_loss})\n",
    "    torch.save(model.state_dict(), f'checkpoints/qgnn_model_{epoch}.pth')\n",
    "\n",
    "# Save the trained model\n",
    "wandb.finish()"
   ]
  },
  {
   "cell_type": "code",
   "execution_count": 13,
   "metadata": {},
   "outputs": [
    {
     "name": "stderr",
     "output_type": "stream",
     "text": [
      "wandb: WARNING Source type is set to 'repo' but some required information is missing from the environment. A job will not be created from this run. See https://docs.wandb.ai/guides/launch/create-job\n"
     ]
    },
    {
     "data": {
      "application/vnd.jupyter.widget-view+json": {
       "model_id": "72bbee9740e14ebd9aaebb951ce6352a",
       "version_major": 2,
       "version_minor": 0
      },
      "text/plain": [
       "VBox(children=(Label(value='0.015 MB of 0.025 MB uploaded\\r'), FloatProgress(value=0.5905556825977589, max=1.0…"
      ]
     },
     "metadata": {},
     "output_type": "display_data"
    },
    {
     "data": {
      "text/html": [
       "<style>\n",
       "    table.wandb td:nth-child(1) { padding: 0 10px; text-align: left ; width: auto;} td:nth-child(2) {text-align: left ; width: 100%}\n",
       "    .wandb-row { display: flex; flex-direction: row; flex-wrap: wrap; justify-content: flex-start; width: 100% }\n",
       "    .wandb-col { display: flex; flex-direction: column; flex-basis: 100%; flex: 1; padding: 10px; }\n",
       "    </style>\n",
       "<div class=\"wandb-row\"><div class=\"wandb-col\"><h3>Run history:</h3><br/><table class=\"wandb\"><tr><td>epoch</td><td>▁▁▁▂▂▂▂▂▃▃▃▃▃▄▄▄▄▄▅▅▅▅▅▆▆▆▆▆▇▇▇▇▇███</td></tr><tr><td>loss</td><td>█▅▂▁▁▁▁▁▁▁▁▁▁▁▁▁▁▁▁▁▁▁▁▁▁▁▁▁▁▁▁▁▁▁▁▁</td></tr></table><br/></div><div class=\"wandb-col\"><h3>Run summary:</h3><br/><table class=\"wandb\"><tr><td>epoch</td><td>36</td></tr><tr><td>loss</td><td>2.83641</td></tr></table><br/></div></div>"
      ],
      "text/plain": [
       "<IPython.core.display.HTML object>"
      ]
     },
     "metadata": {},
     "output_type": "display_data"
    },
    {
     "data": {
      "text/html": [
       " View run <strong style=\"color:#cdcd00\">swift-rain-6</strong> at: <a href='https://wandb.ai/amirfvb/graphQNN/runs/fzwh6l8i' target=\"_blank\">https://wandb.ai/amirfvb/graphQNN/runs/fzwh6l8i</a><br/>Synced 7 W&B file(s), 0 media file(s), 0 artifact file(s) and 0 other file(s)"
      ],
      "text/plain": [
       "<IPython.core.display.HTML object>"
      ]
     },
     "metadata": {},
     "output_type": "display_data"
    },
    {
     "data": {
      "text/html": [
       "Find logs at: <code>./wandb/run-20231113_113913-fzwh6l8i/logs</code>"
      ],
      "text/plain": [
       "<IPython.core.display.HTML object>"
      ]
     },
     "metadata": {},
     "output_type": "display_data"
    }
   ],
   "source": [
    "wandb.finish()"
   ]
  },
  {
   "cell_type": "code",
   "execution_count": 53,
   "metadata": {},
   "outputs": [
    {
     "data": {
      "text/plain": [
       "Parameter containing:\n",
       "tensor([[3.1551, 4.4484, 5.0641],\n",
       "        [5.5594, 0.6541, 1.0174],\n",
       "        [5.0052, 0.1665, 0.7415],\n",
       "        [2.9890, 2.2093, 2.4488],\n",
       "        [4.4664, 5.4787, 2.9617],\n",
       "        [0.0323, 0.4213, 5.6541]], requires_grad=True)"
      ]
     },
     "execution_count": 53,
     "metadata": {},
     "output_type": "execute_result"
    }
   ],
   "source": [
    "p = next(iter(model.parameters()))\n",
    "p[:]"
   ]
  },
  {
   "cell_type": "code",
   "execution_count": 62,
   "metadata": {},
   "outputs": [],
   "source": [
    "p.grad_fn"
   ]
  },
  {
   "cell_type": "code",
   "execution_count": null,
   "metadata": {},
   "outputs": [
    {
     "data": {
      "text/plain": [
       "Data(x=[4, 5], edge_index=[2, 6], edge_attr=[6, 4], y=[1, 19], pos=[4, 3], idx=[1], name='gdb_25', z=[4])"
      ]
     },
     "execution_count": 29,
     "metadata": {},
     "output_type": "execute_result"
    }
   ],
   "source": [
    "data[0]"
   ]
  },
  {
   "cell_type": "code",
   "execution_count": 91,
   "metadata": {},
   "outputs": [
    {
     "data": {
      "text/plain": [
       "(array([7., 4., 3., 7., 4., 4., 5., 4., 3., 2.]),\n",
       " array([-1.        , -0.80000001, -0.60000002, -0.40000001, -0.2       ,\n",
       "         0.        ,  0.2       ,  0.40000001,  0.60000002,  0.80000001,\n",
       "         1.        ]),\n",
       " <BarContainer object of 10 artists>)"
      ]
     },
     "execution_count": 91,
     "metadata": {},
     "output_type": "execute_result"
    },
    {
     "data": {
      "image/png": "[encoded data removed]",
      "text/plain": [
       "<Figure size 640x480 with 1 Axes>"
      ]
     },
     "metadata": {},
     "output_type": "display_data"
    }
   ],
   "source": [
    "import matplotlib.pyplot as plt\n",
    "\n",
    "\n",
    "prop = [data.y[0, 0] for data in filtered_dataset]\n",
    "plt.hist(prop)"
   ]
  },
  {
   "cell_type": "markdown",
   "metadata": {},
   "source": [
    "dataset features normalization"
   ]
  },
  {
   "cell_type": "code",
   "execution_count": 44,
   "metadata": {},
   "outputs": [],
   "source": [
    "def visualize_predictions(model, dataloader, feature_idx):\n",
    "    predictions = []\n",
    "    answers = []\n",
    "    model.eval()\n",
    "    with torch.no_grad():\n",
    "        for data in dataloader:\n",
    "            output = model(data)\n",
    "            predictions.append(output)\n",
    "            answers.append(data.y[:, feature_idx:feature_idx+1])\n",
    "    predictions = torch.cat(predictions)\n",
    "    answers = torch.cat(answers)\n",
    "    plt.plot(answers, predictions, \"o\")\n",
    "    plt.xlabel(\"correct answer\")\n",
    "    plt.ylabel(\"prediction\")\n",
    "    mse = criterion(answers, predictions)\n",
    "    print(mse)\n",
    "    return predictions, answers"
   ]
  },
  {
   "cell_type": "code",
   "execution_count": 45,
   "metadata": {},
   "outputs": [
    {
     "name": "stdout",
     "output_type": "stream",
     "text": [
      "tensor(3.0908)\n"
     ]
    },
    {
     "data": {
      "image/png": "[encoded data removed]",
      "text/plain": [
       "<Figure size 640x480 with 1 Axes>"
      ]
     },
     "metadata": {},
     "output_type": "display_data"
    }
   ],
   "source": [
    "predictions, answers  = visualize_predictions(model, dataloader, 0)"
   ]
  },
  {
   "cell_type": "code",
   "execution_count": 41,
   "metadata": {},
   "outputs": [
    {
     "data": {
      "text/plain": [
       "<function torch._VariableFunctionsClass.cat>"
      ]
     },
     "execution_count": 41,
     "metadata": {},
     "output_type": "execute_result"
    }
   ],
   "source": [
    "torch.cat"
   ]
  }
 ],
 "metadata": {
  "kernelspec": {
   "display_name": "Python 3",
   "language": "python",
   "name": "python3"
  },
  "language_info": {
   "codemirror_mode": {
    "name": "ipython",
    "version": 3
   },
   "file_extension": ".py",
   "mimetype": "text/x-python",
   "name": "python",
   "nbconvert_exporter": "python",
   "pygments_lexer": "ipython3",
   "version": "3.10.13"
  },
  "orig_nbformat": 4
 },
 "nbformat": 4,
 "nbformat_minor": 2
}
