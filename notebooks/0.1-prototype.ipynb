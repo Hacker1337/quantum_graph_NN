{
 "cells": [
  {
   "cell_type": "code",
   "execution_count": null,
   "metadata": {},
   "outputs": [],
   "source": [
    "%cd .."
   ]
  },
  {
   "cell_type": "code",
   "execution_count": 1,
   "metadata": {},
   "outputs": [],
   "source": [
    "import torch\n",
    "from torch import nn"
   ]
  },
  {
   "cell_type": "code",
   "execution_count": 2,
   "metadata": {},
   "outputs": [
    {
     "name": "stderr",
     "output_type": "stream",
     "text": [
      "Failed to detect the name of this notebook, you can set it manually with the WANDB_NOTEBOOK_NAME environment variable to enable code saving.\n",
      "Traceback (most recent call last):\n",
      "  File \"/home/coder/project/.env/lib/python3.10/runpy.py\", line 196, in _run_module_as_main\n",
      "    return _run_code(code, main_globals, None,\n",
      "  File \"/home/coder/project/.env/lib/python3.10/runpy.py\", line 86, in _run_code\n",
      "    exec(code, run_globals)\n",
      "  File \"/home/coder/project/.env/lib/python3.10/site-packages/wandb/__main__.py\", line 3, in <module>\n",
      "    cli.cli(prog_name=\"python -m wandb\")\n",
      "  File \"/home/coder/project/.env/lib/python3.10/site-packages/click/core.py\", line 1157, in __call__\n",
      "    return self.main(*args, **kwargs)\n",
      "  File \"/home/coder/project/.env/lib/python3.10/site-packages/click/core.py\", line 1078, in main\n",
      "    rv = self.invoke(ctx)\n",
      "  File \"/home/coder/project/.env/lib/python3.10/site-packages/click/core.py\", line 1688, in invoke\n",
      "    return _process_result(sub_ctx.command.invoke(sub_ctx))\n",
      "  File \"/home/coder/project/.env/lib/python3.10/site-packages/click/core.py\", line 1434, in invoke\n",
      "    return ctx.invoke(self.callback, **ctx.params)\n",
      "  File \"/home/coder/project/.env/lib/python3.10/site-packages/click/core.py\", line 783, in invoke\n",
      "    return __callback(*args, **kwargs)\n",
      "  File \"/home/coder/project/.env/lib/python3.10/site-packages/wandb/cli/cli.py\", line 103, in wrapper\n",
      "    return func(*args, **kwargs)\n",
      "  File \"/home/coder/project/.env/lib/python3.10/site-packages/wandb/cli/cli.py\", line 280, in service\n",
      "    server.serve()\n",
      "  File \"/home/coder/project/.env/lib/python3.10/site-packages/wandb/sdk/service/server.py\", line 114, in serve\n",
      "    self._inform_used_ports(sock_port=sock_port)\n",
      "  File \"/home/coder/project/.env/lib/python3.10/site-packages/wandb/sdk/service/server.py\", line 52, in _inform_used_ports\n",
      "    pf.write(self._port_fname)\n",
      "  File \"/home/coder/project/.env/lib/python3.10/site-packages/wandb/sdk/service/port_file.py\", line 21, in write\n",
      "    f = tempfile.NamedTemporaryFile(prefix=bname, dir=dname, mode=\"w\", delete=False)\n",
      "  File \"/home/coder/project/.env/lib/python3.10/tempfile.py\", line 559, in NamedTemporaryFile\n",
      "    file = _io.open(dir, mode, buffering=buffering,\n",
      "  File \"/home/coder/project/.env/lib/python3.10/tempfile.py\", line 556, in opener\n",
      "    fd, name = _mkstemp_inner(dir, prefix, suffix, flags, output_type)\n",
      "  File \"/home/coder/project/.env/lib/python3.10/tempfile.py\", line 256, in _mkstemp_inner\n",
      "    fd = _os.open(file, flags, 0o600)\n",
      "FileNotFoundError: [Errno 2] No such file or directory: '/home/coder/tmp/tmp9cf_n0aq/port-295155.txtwuixsc0u'\n"
     ]
    },
    {
     "ename": "KeyboardInterrupt",
     "evalue": "",
     "output_type": "error",
     "traceback": [
      "\u001b[0;31m---------------------------------------------------------------------------\u001b[0m",
      "\u001b[0;31mKeyboardInterrupt\u001b[0m                         Traceback (most recent call last)",
      "Cell \u001b[0;32mIn[2], line 3\u001b[0m\n\u001b[1;32m      1\u001b[0m \u001b[39mimport\u001b[39;00m \u001b[39mwandb\u001b[39;00m\n\u001b[0;32m----> 3\u001b[0m wandb\u001b[39m.\u001b[39;49mlogin()\n\u001b[1;32m      4\u001b[0m wandb_prj_name \u001b[39m=\u001b[39m \u001b[39m\"\u001b[39m\u001b[39mgraphQNN\u001b[39m\u001b[39m\"\u001b[39m\n",
      "File \u001b[0;32m~/project/.env/lib/python3.10/site-packages/wandb/sdk/wandb_login.py:74\u001b[0m, in \u001b[0;36mlogin\u001b[0;34m(anonymous, key, relogin, host, force, timeout)\u001b[0m\n\u001b[1;32m     54\u001b[0m \u001b[39m\u001b[39m\u001b[39m\"\"\"Log in to W&B.\u001b[39;00m\n\u001b[1;32m     55\u001b[0m \n\u001b[1;32m     56\u001b[0m \u001b[39mArguments:\u001b[39;00m\n\u001b[0;32m   (...)\u001b[0m\n\u001b[1;32m     71\u001b[0m \u001b[39m    UsageError - if api_key cannot be configured and no tty\u001b[39;00m\n\u001b[1;32m     72\u001b[0m \u001b[39m\"\"\"\u001b[39;00m\n\u001b[1;32m     73\u001b[0m _handle_host_wandb_setting(host)\n\u001b[0;32m---> 74\u001b[0m \u001b[39mif\u001b[39;00m wandb\u001b[39m.\u001b[39;49msetup()\u001b[39m.\u001b[39m_settings\u001b[39m.\u001b[39m_noop:\n\u001b[1;32m     75\u001b[0m     \u001b[39mreturn\u001b[39;00m \u001b[39mTrue\u001b[39;00m\n\u001b[1;32m     76\u001b[0m kwargs \u001b[39m=\u001b[39m \u001b[39mdict\u001b[39m(\u001b[39mlocals\u001b[39m())\n",
      "File \u001b[0;32m~/project/.env/lib/python3.10/site-packages/wandb/sdk/wandb_setup.py:327\u001b[0m, in \u001b[0;36msetup\u001b[0;34m(settings)\u001b[0m\n\u001b[1;32m    324\u001b[0m \u001b[39mdef\u001b[39;00m \u001b[39msetup\u001b[39m(\n\u001b[1;32m    325\u001b[0m     settings: Optional[Settings] \u001b[39m=\u001b[39m \u001b[39mNone\u001b[39;00m,\n\u001b[1;32m    326\u001b[0m ) \u001b[39m-\u001b[39m\u001b[39m>\u001b[39m Optional[\u001b[39m\"\u001b[39m\u001b[39m_WandbSetup\u001b[39m\u001b[39m\"\u001b[39m]:\n\u001b[0;32m--> 327\u001b[0m     ret \u001b[39m=\u001b[39m _setup(settings\u001b[39m=\u001b[39;49msettings)\n\u001b[1;32m    328\u001b[0m     \u001b[39mreturn\u001b[39;00m ret\n",
      "File \u001b[0;32m~/project/.env/lib/python3.10/site-packages/wandb/sdk/wandb_setup.py:320\u001b[0m, in \u001b[0;36m_setup\u001b[0;34m(settings, _reset)\u001b[0m\n\u001b[1;32m    318\u001b[0m     _WandbSetup\u001b[39m.\u001b[39m_instance \u001b[39m=\u001b[39m \u001b[39mNone\u001b[39;00m\n\u001b[1;32m    319\u001b[0m     \u001b[39mreturn\u001b[39;00m \u001b[39mNone\u001b[39;00m\n\u001b[0;32m--> 320\u001b[0m wl \u001b[39m=\u001b[39m _WandbSetup(settings\u001b[39m=\u001b[39;49msettings)\n\u001b[1;32m    321\u001b[0m \u001b[39mreturn\u001b[39;00m wl\n",
      "File \u001b[0;32m~/project/.env/lib/python3.10/site-packages/wandb/sdk/wandb_setup.py:303\u001b[0m, in \u001b[0;36m_WandbSetup.__init__\u001b[0;34m(self, settings)\u001b[0m\n\u001b[1;32m    301\u001b[0m     _WandbSetup\u001b[39m.\u001b[39m_instance\u001b[39m.\u001b[39m_update(settings\u001b[39m=\u001b[39msettings)\n\u001b[1;32m    302\u001b[0m     \u001b[39mreturn\u001b[39;00m\n\u001b[0;32m--> 303\u001b[0m _WandbSetup\u001b[39m.\u001b[39m_instance \u001b[39m=\u001b[39m _WandbSetup__WandbSetup(settings\u001b[39m=\u001b[39;49msettings, pid\u001b[39m=\u001b[39;49mpid)\n",
      "File \u001b[0;32m~/project/.env/lib/python3.10/site-packages/wandb/sdk/wandb_setup.py:114\u001b[0m, in \u001b[0;36m_WandbSetup__WandbSetup.__init__\u001b[0;34m(self, pid, settings, environ)\u001b[0m\n\u001b[1;32m    111\u001b[0m wandb\u001b[39m.\u001b[39mtermsetup(\u001b[39mself\u001b[39m\u001b[39m.\u001b[39m_settings, logger)\n\u001b[1;32m    113\u001b[0m \u001b[39mself\u001b[39m\u001b[39m.\u001b[39m_check()\n\u001b[0;32m--> 114\u001b[0m \u001b[39mself\u001b[39;49m\u001b[39m.\u001b[39;49m_setup()\n\u001b[1;32m    116\u001b[0m tracelog_mode \u001b[39m=\u001b[39m \u001b[39mself\u001b[39m\u001b[39m.\u001b[39m_settings\u001b[39m.\u001b[39m_tracelog\n\u001b[1;32m    117\u001b[0m \u001b[39mif\u001b[39;00m tracelog_mode:\n",
      "File \u001b[0;32m~/project/.env/lib/python3.10/site-packages/wandb/sdk/wandb_setup.py:250\u001b[0m, in \u001b[0;36m_WandbSetup__WandbSetup._setup\u001b[0;34m(self)\u001b[0m\n\u001b[1;32m    249\u001b[0m \u001b[39mdef\u001b[39;00m \u001b[39m_setup\u001b[39m(\u001b[39mself\u001b[39m) \u001b[39m-\u001b[39m\u001b[39m>\u001b[39m \u001b[39mNone\u001b[39;00m:\n\u001b[0;32m--> 250\u001b[0m     \u001b[39mself\u001b[39;49m\u001b[39m.\u001b[39;49m_setup_manager()\n\u001b[1;32m    252\u001b[0m     sweep_path \u001b[39m=\u001b[39m \u001b[39mself\u001b[39m\u001b[39m.\u001b[39m_settings\u001b[39m.\u001b[39msweep_param_path\n\u001b[1;32m    253\u001b[0m     \u001b[39mif\u001b[39;00m sweep_path:\n",
      "File \u001b[0;32m~/project/.env/lib/python3.10/site-packages/wandb/sdk/wandb_setup.py:277\u001b[0m, in \u001b[0;36m_WandbSetup__WandbSetup._setup_manager\u001b[0;34m(self)\u001b[0m\n\u001b[1;32m    275\u001b[0m \u001b[39mif\u001b[39;00m \u001b[39mself\u001b[39m\u001b[39m.\u001b[39m_settings\u001b[39m.\u001b[39m_disable_service:\n\u001b[1;32m    276\u001b[0m     \u001b[39mreturn\u001b[39;00m\n\u001b[0;32m--> 277\u001b[0m \u001b[39mself\u001b[39m\u001b[39m.\u001b[39m_manager \u001b[39m=\u001b[39m wandb_manager\u001b[39m.\u001b[39;49m_Manager(settings\u001b[39m=\u001b[39;49m\u001b[39mself\u001b[39;49m\u001b[39m.\u001b[39;49m_settings)\n",
      "File \u001b[0;32m~/project/.env/lib/python3.10/site-packages/wandb/sdk/wandb_manager.py:138\u001b[0m, in \u001b[0;36m_Manager.__init__\u001b[0;34m(self, settings)\u001b[0m\n\u001b[1;32m    136\u001b[0m token \u001b[39m=\u001b[39m _ManagerToken\u001b[39m.\u001b[39mfrom_environment()\n\u001b[1;32m    137\u001b[0m \u001b[39mif\u001b[39;00m \u001b[39mnot\u001b[39;00m token:\n\u001b[0;32m--> 138\u001b[0m     \u001b[39mself\u001b[39;49m\u001b[39m.\u001b[39;49m_service\u001b[39m.\u001b[39;49mstart()\n\u001b[1;32m    139\u001b[0m     host \u001b[39m=\u001b[39m \u001b[39m\"\u001b[39m\u001b[39mlocalhost\u001b[39m\u001b[39m\"\u001b[39m\n\u001b[1;32m    140\u001b[0m     transport \u001b[39m=\u001b[39m \u001b[39m\"\u001b[39m\u001b[39mtcp\u001b[39m\u001b[39m\"\u001b[39m\n",
      "File \u001b[0;32m~/project/.env/lib/python3.10/site-packages/wandb/sdk/service/service.py:258\u001b[0m, in \u001b[0;36m_Service.start\u001b[0;34m(self)\u001b[0m\n\u001b[1;32m    257\u001b[0m \u001b[39mdef\u001b[39;00m \u001b[39mstart\u001b[39m(\u001b[39mself\u001b[39m) \u001b[39m-\u001b[39m\u001b[39m>\u001b[39m \u001b[39mNone\u001b[39;00m:\n\u001b[0;32m--> 258\u001b[0m     \u001b[39mself\u001b[39;49m\u001b[39m.\u001b[39;49m_launch_server()\n",
      "File \u001b[0;32m~/project/.env/lib/python3.10/site-packages/wandb/sdk/service/service.py:250\u001b[0m, in \u001b[0;36m_Service._launch_server\u001b[0;34m(self)\u001b[0m\n\u001b[1;32m    248\u001b[0m \u001b[39mself\u001b[39m\u001b[39m.\u001b[39m_startup_debug_print(\u001b[39m\"\u001b[39m\u001b[39mwait_ports\u001b[39m\u001b[39m\"\u001b[39m)\n\u001b[1;32m    249\u001b[0m \u001b[39mtry\u001b[39;00m:\n\u001b[0;32m--> 250\u001b[0m     \u001b[39mself\u001b[39;49m\u001b[39m.\u001b[39;49m_wait_for_ports(fname, proc\u001b[39m=\u001b[39;49minternal_proc)\n\u001b[1;32m    251\u001b[0m \u001b[39mexcept\u001b[39;00m \u001b[39mException\u001b[39;00m \u001b[39mas\u001b[39;00m e:\n\u001b[1;32m    252\u001b[0m     _sentry\u001b[39m.\u001b[39mreraise(e)\n",
      "File \u001b[0;32m~/project/.env/lib/python3.10/site-packages/wandb/sdk/service/service.py:126\u001b[0m, in \u001b[0;36m_Service._wait_for_ports\u001b[0;34m(self, fname, proc)\u001b[0m\n\u001b[1;32m    118\u001b[0m     \u001b[39mraise\u001b[39;00m ServiceStartProcessError(\n\u001b[1;32m    119\u001b[0m         \u001b[39mf\u001b[39m\u001b[39m\"\u001b[39m\u001b[39mThe wandb service process exited with \u001b[39m\u001b[39m{\u001b[39;00mproc\u001b[39m.\u001b[39mreturncode\u001b[39m}\u001b[39;00m\u001b[39m. \u001b[39m\u001b[39m\"\u001b[39m\n\u001b[1;32m    120\u001b[0m         \u001b[39m\"\u001b[39m\u001b[39mEnsure that `sys.executable` is a valid python interpreter. \u001b[39m\u001b[39m\"\u001b[39m\n\u001b[0;32m   (...)\u001b[0m\n\u001b[1;32m    123\u001b[0m         context\u001b[39m=\u001b[39mcontext,\n\u001b[1;32m    124\u001b[0m     )\n\u001b[1;32m    125\u001b[0m \u001b[39mif\u001b[39;00m \u001b[39mnot\u001b[39;00m os\u001b[39m.\u001b[39mpath\u001b[39m.\u001b[39misfile(fname):\n\u001b[0;32m--> 126\u001b[0m     time\u001b[39m.\u001b[39;49msleep(\u001b[39m0.2\u001b[39;49m)\n\u001b[1;32m    127\u001b[0m     \u001b[39mcontinue\u001b[39;00m\n\u001b[1;32m    128\u001b[0m \u001b[39mtry\u001b[39;00m:\n",
      "\u001b[0;31mKeyboardInterrupt\u001b[0m: "
     ]
    }
   ],
   "source": [
    "import wandb\n",
    "\n",
    "wandb.login()\n",
    "wandb_prj_name = \"graphQNN\""
   ]
  },
  {
   "cell_type": "markdown",
   "metadata": {},
   "source": [
    "## Dataset preprocessing"
   ]
  },
  {
   "cell_type": "code",
   "execution_count": 3,
   "metadata": {},
   "outputs": [],
   "source": [
    "from torch_geometric.loader import DataLoader\n",
    "from torch_geometric.datasets import QM9\n",
    "\n",
    "from torch_geometric.transforms import Compose, NormalizeScale, NormalizeFeatures\n",
    "\n",
    "\n",
    "# Load the QM9 dataset and filter graphs with less than 8 nodes\n",
    "dataset = QM9(root='data/QM9', transform=Compose([NormalizeScale()]))\n",
    "filtered_dataset = []\n",
    "max_nodes = 8\n",
    "for data in dataset:\n",
    "    if data.num_nodes < max_nodes:\n",
    "        data.x = data.x[:, :5] # keep only the atomic type\n",
    "        filtered_dataset.append(data)\n"
   ]
  },
  {
   "cell_type": "code",
   "execution_count": 5,
   "metadata": {},
   "outputs": [],
   "source": [
    "# normalize y values scale\n",
    "\n",
    "y_values = torch.cat([data.y for data in filtered_dataset], dim=0)\n",
    "\n",
    "a, b = y_values.min(dim=0)[0], y_values.max(dim=0)[0]\n",
    "mean = (a + b)/2\n",
    "std = (b - a)/2\n",
    "for data in filtered_dataset:\n",
    "    data.y = (data.y - mean)/std"
   ]
  },
  {
   "cell_type": "code",
   "execution_count": 6,
   "metadata": {},
   "outputs": [
    {
     "data": {
      "text/plain": [
       "(Data(x=[5, 11], edge_index=[2, 8], edge_attr=[8, 4], y=[1, 19], pos=[5, 3], idx=[1], name='gdb_1', z=[5]),\n",
       " Data(x=[5, 5], edge_index=[2, 8], edge_attr=[8, 4], y=[1, 19], pos=[5, 3], idx=[1], name='gdb_1', z=[5]))"
      ]
     },
     "execution_count": 6,
     "metadata": {},
     "output_type": "execute_result"
    }
   ],
   "source": [
    "x = dataset[0]; x2 = filtered_dataset[0]\n",
    "x, x2"
   ]
  },
  {
   "cell_type": "code",
   "execution_count": 7,
   "metadata": {},
   "outputs": [
    {
     "name": "stdout",
     "output_type": "stream",
     "text": [
      "('x', tensor([[0., 1., 0., 0., 0.],\n",
      "        [1., 0., 0., 0., 0.],\n",
      "        [1., 0., 0., 0., 0.],\n",
      "        [1., 0., 0., 0., 0.],\n",
      "        [1., 0., 0., 0., 0.]]))\n",
      "('edge_index', tensor([[0, 0, 0, 0, 1, 2, 3, 4],\n",
      "        [1, 2, 3, 4, 0, 0, 0, 0]]))\n",
      "('edge_attr', tensor([[1., 0., 0., 0.],\n",
      "        [1., 0., 0., 0.],\n",
      "        [1., 0., 0., 0.],\n",
      "        [1., 0., 0., 0.],\n",
      "        [1., 0., 0., 0.],\n",
      "        [1., 0., 0., 0.],\n",
      "        [1., 0., 0., 0.],\n",
      "        [1., 0., 0., 0.]]))\n",
      "('y', tensor([[-1.0000, -0.7586, -0.5315,  0.5631,  0.5057, -0.9568,  0.3933,  1.0000,\n",
      "          1.0000,  1.0000,  1.0000, -0.9296,  0.4471,  0.4432,  0.4416,  0.4528,\n",
      "         -0.6055, -0.2836,  0.1106]]))\n",
      "('pos', tensor([[-1.8324e-05,  1.0919e-07, -1.8314e-05],\n",
      "        [ 1.3629e-02, -1.0000e+00, -5.5138e-03],\n",
      "        [ 9.3825e-01,  3.4622e-01, -7.0709e-03],\n",
      "        [-4.8371e-01,  3.3129e-01, -8.1024e-01],\n",
      "        [-4.6814e-01,  3.2249e-01,  8.2284e-01]]))\n",
      "('idx', tensor([0]))\n",
      "('name', 'gdb_1')\n",
      "('z', tensor([6, 1, 1, 1, 1]))\n"
     ]
    }
   ],
   "source": [
    "for t in x2:\n",
    "    print(t)"
   ]
  },
  {
   "cell_type": "code",
   "execution_count": 7,
   "metadata": {},
   "outputs": [
    {
     "data": {
      "image/png": "[encoded data removed]",
      "text/plain": [
       "<Figure size 640x480 with 1 Axes>"
      ]
     },
     "metadata": {},
     "output_type": "display_data"
    }
   ],
   "source": [
    "import networkx as nx\n",
    "import torch_geometric\n",
    "\n",
    "g = torch_geometric.utils.to_networkx(x, to_undirected=True)\n",
    "nx.draw(g)"
   ]
  },
  {
   "cell_type": "code",
   "execution_count": null,
   "metadata": {},
   "outputs": [],
   "source": []
  },
  {
   "cell_type": "markdown",
   "metadata": {},
   "source": [
    "Model with global readout."
   ]
  },
  {
   "cell_type": "code",
   "execution_count": 5,
   "metadata": {},
   "outputs": [],
   "source": [
    "lr = 0.01"
   ]
  },
  {
   "cell_type": "code",
   "execution_count": 44,
   "metadata": {},
   "outputs": [],
   "source": [
    "import torch\n",
    "import torch.nn as nn\n",
    "import torch.nn.functional as F\n",
    "\n",
    "from torch_geometric.nn import global_mean_pool, GCNConv\n",
    "\n",
    "\n",
    "# Create a DataLoader for the filtered dataset\n",
    "batch_size = 1\n",
    "dataloader = DataLoader(filtered_dataset, batch_size=batch_size, shuffle=True)\n",
    "\n",
    "# Define a simple Graph Neural Network (GNN) model\n",
    "class GNNModel(nn.Module):\n",
    "    def __init__(self, num_features, hidden_dim):\n",
    "        super(GNNModel, self).__init__()\n",
    "        self.conv1 = GCNConv(num_features, hidden_dim)\n",
    "        self.fc1 = nn.Linear(hidden_dim, hidden_dim)\n",
    "        self.fc2 = nn.Linear(hidden_dim, 1)\n",
    "\n",
    "    def forward(self, data):\n",
    "        x, edge_index, batch = data.x, data.edge_index, data.batch\n",
    "        x = F.relu(self.conv1(x, edge_index))\n",
    "        x = global_mean_pool(x, batch)\n",
    "        x = F.relu(self.fc1(x))\n",
    "        x = self.fc2(x)\n",
    "        return x\n",
    "\n",
    "# Initialize and train the GNN model\n",
    "model = GNNModel(filtered_dataset[0].num_features, hidden_dim=10)\n",
    "optimizer = torch.optim.Adam(model.parameters(), lr=lr)\n",
    "criterion = nn.MSELoss()\n"
   ]
  },
  {
   "cell_type": "code",
   "execution_count": 45,
   "metadata": {},
   "outputs": [
    {
     "name": "stdout",
     "output_type": "stream",
     "text": [
      "number of parameters is  181\n"
     ]
    }
   ],
   "source": [
    "n_params = sum([p.numel() for p in model.parameters()])\n",
    "print(\"number of parameters is \", n_params)"
   ]
  },
  {
   "cell_type": "code",
   "execution_count": 41,
   "metadata": {},
   "outputs": [
    {
     "data": {
      "text/html": [
       "Tracking run with wandb version 0.16.0"
      ],
      "text/plain": [
       "<IPython.core.display.HTML object>"
      ]
     },
     "metadata": {},
     "output_type": "display_data"
    },
    {
     "data": {
      "text/html": [
       "Run data is saved locally in <code>/home/coder/project/wandb/run-20231115_120027-q9iq11w1</code>"
      ],
      "text/plain": [
       "<IPython.core.display.HTML object>"
      ]
     },
     "metadata": {},
     "output_type": "display_data"
    },
    {
     "data": {
      "text/html": [
       "Syncing run <strong><a href='https://wandb.ai/amirfvb/graphQNN/runs/q9iq11w1' target=\"_blank\">crisp-totem-17</a></strong> to <a href='https://wandb.ai/amirfvb/graphQNN' target=\"_blank\">Weights & Biases</a> (<a href='https://wandb.me/run' target=\"_blank\">docs</a>)<br/>"
      ],
      "text/plain": [
       "<IPython.core.display.HTML object>"
      ]
     },
     "metadata": {},
     "output_type": "display_data"
    },
    {
     "data": {
      "text/html": [
       " View project at <a href='https://wandb.ai/amirfvb/graphQNN' target=\"_blank\">https://wandb.ai/amirfvb/graphQNN</a>"
      ],
      "text/plain": [
       "<IPython.core.display.HTML object>"
      ]
     },
     "metadata": {},
     "output_type": "display_data"
    },
    {
     "data": {
      "text/html": [
       " View run at <a href='https://wandb.ai/amirfvb/graphQNN/runs/q9iq11w1' target=\"_blank\">https://wandb.ai/amirfvb/graphQNN/runs/q9iq11w1</a>"
      ],
      "text/plain": [
       "<IPython.core.display.HTML object>"
      ]
     },
     "metadata": {},
     "output_type": "display_data"
    }
   ],
   "source": [
    "run = wandb.init(\n",
    "    # Set the project where this run will be logged\n",
    "    project=wandb_prj_name,\n",
    "    # Track hyperparameters and run metadata\n",
    "    config={\n",
    "        \"learning_rate\": lr,\n",
    "        \"n_params\": n_params,\n",
    "        \"model\": \"classical\",\n",
    "        \"num_nodes\": max_nodes,\n",
    "        \"batch_size\": batch_size,\n",
    "    })"
   ]
  },
  {
   "cell_type": "code",
   "execution_count": 46,
   "metadata": {},
   "outputs": [
    {
     "name": "stdout",
     "output_type": "stream",
     "text": [
      "Epoch 1/400, Loss: 0.3457\n",
      "Epoch 2/400, Loss: 0.3328\n",
      "Epoch 3/400, Loss: 0.3344\n",
      "Epoch 4/400, Loss: 0.3286\n",
      "Epoch 5/400, Loss: 0.3328\n",
      "Epoch 6/400, Loss: 0.3263\n",
      "Epoch 7/400, Loss: 0.3118\n",
      "Epoch 8/400, Loss: 0.3002\n",
      "Epoch 9/400, Loss: 0.2819\n",
      "Epoch 10/400, Loss: 0.2691\n",
      "Epoch 11/400, Loss: 0.2491\n",
      "Epoch 12/400, Loss: 0.2418\n",
      "Epoch 13/400, Loss: 0.2399\n",
      "Epoch 14/400, Loss: 0.2333\n",
      "Epoch 15/400, Loss: 0.2228\n",
      "Epoch 16/400, Loss: 0.2275\n",
      "Epoch 17/400, Loss: 0.2315\n",
      "Epoch 18/400, Loss: 0.2178\n",
      "Epoch 19/400, Loss: 0.2294\n",
      "Epoch 20/400, Loss: 0.2164\n",
      "Epoch 21/400, Loss: 0.1985\n",
      "Epoch 22/400, Loss: 0.1928\n",
      "Epoch 23/400, Loss: 0.1916\n",
      "Epoch 24/400, Loss: 0.1854\n",
      "Epoch 25/400, Loss: 0.1820\n",
      "Epoch 26/400, Loss: 0.1893\n",
      "Epoch 27/400, Loss: 0.2113\n",
      "Epoch 28/400, Loss: 0.2023\n",
      "Epoch 29/400, Loss: 0.1765\n",
      "Epoch 30/400, Loss: 0.1897\n",
      "Epoch 31/400, Loss: 0.2057\n",
      "Epoch 32/400, Loss: 0.1782\n",
      "Epoch 33/400, Loss: 0.1715\n",
      "Epoch 34/400, Loss: 0.1645\n",
      "Epoch 35/400, Loss: 0.1693\n",
      "Epoch 36/400, Loss: 0.1799\n",
      "Epoch 37/400, Loss: 0.1676\n",
      "Epoch 38/400, Loss: 0.1564\n",
      "Epoch 39/400, Loss: 0.1889\n",
      "Epoch 40/400, Loss: 0.1620\n",
      "Epoch 41/400, Loss: 0.1513\n",
      "Epoch 42/400, Loss: 0.1586\n",
      "Epoch 43/400, Loss: 0.1573\n",
      "Epoch 44/400, Loss: 0.1532\n",
      "Epoch 45/400, Loss: 0.1510\n",
      "Epoch 46/400, Loss: 0.1722\n",
      "Epoch 47/400, Loss: 0.1552\n",
      "Epoch 48/400, Loss: 0.1552\n",
      "Epoch 49/400, Loss: 0.1759\n",
      "Epoch 50/400, Loss: 0.1767\n",
      "Epoch 51/400, Loss: 0.1479\n",
      "Epoch 52/400, Loss: 0.1539\n",
      "Epoch 53/400, Loss: 0.1483\n",
      "Epoch 54/400, Loss: 0.1451\n",
      "Epoch 55/400, Loss: 0.1367\n",
      "Epoch 56/400, Loss: 0.1409\n",
      "Epoch 57/400, Loss: 0.1372\n",
      "Epoch 58/400, Loss: 0.1470\n",
      "Epoch 59/400, Loss: 0.1263\n",
      "Epoch 60/400, Loss: 0.1198\n",
      "Epoch 61/400, Loss: 0.1245\n",
      "Epoch 62/400, Loss: 0.1216\n",
      "Epoch 63/400, Loss: 0.1181\n",
      "Epoch 64/400, Loss: 0.1205\n",
      "Epoch 65/400, Loss: 0.1234\n",
      "Epoch 66/400, Loss: 0.1508\n",
      "Epoch 67/400, Loss: 0.1281\n",
      "Epoch 68/400, Loss: 0.1281\n",
      "Epoch 69/400, Loss: 0.1253\n",
      "Epoch 70/400, Loss: 0.1193\n",
      "Epoch 71/400, Loss: 0.1147\n",
      "Epoch 72/400, Loss: 0.1173\n",
      "Epoch 73/400, Loss: 0.1261\n",
      "Epoch 74/400, Loss: 0.1104\n",
      "Epoch 75/400, Loss: 0.1045\n",
      "Epoch 76/400, Loss: 0.1087\n",
      "Epoch 77/400, Loss: 0.1003\n",
      "Epoch 78/400, Loss: 0.0961\n",
      "Epoch 79/400, Loss: 0.0972\n",
      "Epoch 80/400, Loss: 0.1049\n",
      "Epoch 81/400, Loss: 0.1152\n",
      "Epoch 82/400, Loss: 0.1100\n",
      "Epoch 83/400, Loss: 0.1147\n",
      "Epoch 84/400, Loss: 0.0862\n",
      "Epoch 85/400, Loss: 0.0873\n",
      "Epoch 86/400, Loss: 0.0907\n",
      "Epoch 87/400, Loss: 0.0872\n",
      "Epoch 88/400, Loss: 0.0815\n",
      "Epoch 89/400, Loss: 0.0932\n",
      "Epoch 90/400, Loss: 0.1145\n",
      "Epoch 91/400, Loss: 0.0901\n",
      "Epoch 92/400, Loss: 0.1069\n",
      "Epoch 93/400, Loss: 0.1035\n",
      "Epoch 94/400, Loss: 0.0765\n",
      "Epoch 95/400, Loss: 0.0967\n",
      "Epoch 96/400, Loss: 0.0833\n",
      "Epoch 97/400, Loss: 0.0559\n",
      "Epoch 98/400, Loss: 0.0905\n",
      "Epoch 99/400, Loss: 0.0682\n",
      "Epoch 100/400, Loss: 0.0843\n",
      "Epoch 101/400, Loss: 0.0721\n",
      "Epoch 102/400, Loss: 0.0669\n",
      "Epoch 103/400, Loss: 0.0663\n",
      "Epoch 104/400, Loss: 0.0670\n",
      "Epoch 105/400, Loss: 0.0767\n",
      "Epoch 106/400, Loss: 0.0687\n",
      "Epoch 107/400, Loss: 0.0621\n",
      "Epoch 108/400, Loss: 0.0565\n",
      "Epoch 109/400, Loss: 0.0660\n",
      "Epoch 110/400, Loss: 0.0570\n",
      "Epoch 111/400, Loss: 0.0662\n",
      "Epoch 112/400, Loss: 0.1232\n",
      "Epoch 113/400, Loss: 0.0656\n",
      "Epoch 114/400, Loss: 0.0619\n",
      "Epoch 115/400, Loss: 0.0605\n",
      "Epoch 116/400, Loss: 0.0557\n",
      "Epoch 117/400, Loss: 0.0513\n",
      "Epoch 118/400, Loss: 0.0437\n",
      "Epoch 119/400, Loss: 0.0565\n",
      "Epoch 120/400, Loss: 0.0418\n",
      "Epoch 121/400, Loss: 0.0543\n",
      "Epoch 122/400, Loss: 0.0586\n",
      "Epoch 123/400, Loss: 0.0561\n",
      "Epoch 124/400, Loss: 0.0647\n",
      "Epoch 125/400, Loss: 0.0573\n",
      "Epoch 126/400, Loss: 0.0623\n",
      "Epoch 127/400, Loss: 0.0450\n",
      "Epoch 128/400, Loss: 0.0685\n",
      "Epoch 129/400, Loss: 0.0579\n",
      "Epoch 130/400, Loss: 0.0615\n",
      "Epoch 131/400, Loss: 0.0590\n",
      "Epoch 132/400, Loss: 0.0495\n",
      "Epoch 133/400, Loss: 0.0381\n",
      "Epoch 134/400, Loss: 0.0430\n",
      "Epoch 135/400, Loss: 0.0719\n",
      "Epoch 136/400, Loss: 0.0496\n",
      "Epoch 137/400, Loss: 0.0609\n",
      "Epoch 138/400, Loss: 0.0474\n",
      "Epoch 139/400, Loss: 0.0449\n",
      "Epoch 140/400, Loss: 0.0411\n",
      "Epoch 141/400, Loss: 0.0467\n",
      "Epoch 142/400, Loss: 0.0509\n",
      "Epoch 143/400, Loss: 0.0548\n",
      "Epoch 144/400, Loss: 0.0349\n",
      "Epoch 145/400, Loss: 0.0391\n",
      "Epoch 146/400, Loss: 0.0415\n",
      "Epoch 147/400, Loss: 0.0533\n",
      "Epoch 148/400, Loss: 0.0588\n",
      "Epoch 149/400, Loss: 0.0433\n",
      "Epoch 150/400, Loss: 0.0467\n",
      "Epoch 151/400, Loss: 0.0450\n",
      "Epoch 152/400, Loss: 0.0385\n",
      "Epoch 153/400, Loss: 0.0476\n",
      "Epoch 154/400, Loss: 0.0493\n",
      "Epoch 155/400, Loss: 0.0338\n",
      "Epoch 156/400, Loss: 0.0491\n",
      "Epoch 157/400, Loss: 0.0440\n",
      "Epoch 158/400, Loss: 0.0531\n",
      "Epoch 159/400, Loss: 0.0413\n",
      "Epoch 160/400, Loss: 0.0433\n",
      "Epoch 161/400, Loss: 0.0443\n",
      "Epoch 162/400, Loss: 0.0431\n",
      "Epoch 163/400, Loss: 0.0447\n",
      "Epoch 164/400, Loss: 0.0443\n",
      "Epoch 165/400, Loss: 0.0385\n",
      "Epoch 166/400, Loss: 0.0427\n",
      "Epoch 167/400, Loss: 0.0491\n",
      "Epoch 168/400, Loss: 0.0377\n",
      "Epoch 169/400, Loss: 0.0559\n",
      "Epoch 170/400, Loss: 0.0378\n",
      "Epoch 171/400, Loss: 0.0556\n",
      "Epoch 172/400, Loss: 0.0685\n",
      "Epoch 173/400, Loss: 0.0540\n",
      "Epoch 174/400, Loss: 0.0479\n",
      "Epoch 175/400, Loss: 0.0391\n",
      "Epoch 176/400, Loss: 0.0397\n",
      "Epoch 177/400, Loss: 0.0419\n",
      "Epoch 178/400, Loss: 0.0417\n",
      "Epoch 179/400, Loss: 0.0405\n",
      "Epoch 180/400, Loss: 0.0407\n",
      "Epoch 181/400, Loss: 0.0491\n",
      "Epoch 182/400, Loss: 0.0463\n",
      "Epoch 183/400, Loss: 0.0489\n",
      "Epoch 184/400, Loss: 0.0448\n",
      "Epoch 185/400, Loss: 0.0494\n",
      "Epoch 186/400, Loss: 0.0369\n",
      "Epoch 187/400, Loss: 0.0380\n",
      "Epoch 188/400, Loss: 0.0434\n",
      "Epoch 189/400, Loss: 0.0457\n",
      "Epoch 190/400, Loss: 0.0395\n",
      "Epoch 191/400, Loss: 0.0419\n",
      "Epoch 192/400, Loss: 0.0393\n",
      "Epoch 193/400, Loss: 0.0363\n",
      "Epoch 194/400, Loss: 0.0502\n",
      "Epoch 195/400, Loss: 0.0313\n",
      "Epoch 196/400, Loss: 0.0564\n",
      "Epoch 197/400, Loss: 0.0476\n",
      "Epoch 198/400, Loss: 0.0718\n",
      "Epoch 199/400, Loss: 0.0469\n",
      "Epoch 200/400, Loss: 0.0771\n",
      "Epoch 201/400, Loss: 0.0362\n",
      "Epoch 202/400, Loss: 0.0496\n",
      "Epoch 203/400, Loss: 0.0368\n",
      "Epoch 204/400, Loss: 0.1030\n",
      "Epoch 205/400, Loss: 0.0398\n",
      "Epoch 206/400, Loss: 0.0395\n",
      "Epoch 207/400, Loss: 0.0408\n",
      "Epoch 208/400, Loss: 0.0455\n",
      "Epoch 209/400, Loss: 0.0389\n",
      "Epoch 210/400, Loss: 0.0413\n",
      "Epoch 211/400, Loss: 0.0349\n",
      "Epoch 212/400, Loss: 0.0331\n",
      "Epoch 213/400, Loss: 0.0468\n",
      "Epoch 214/400, Loss: 0.0543\n",
      "Epoch 215/400, Loss: 0.0368\n",
      "Epoch 216/400, Loss: 0.0353\n",
      "Epoch 217/400, Loss: 0.0353\n",
      "Epoch 218/400, Loss: 0.0344\n",
      "Epoch 219/400, Loss: 0.0355\n",
      "Epoch 220/400, Loss: 0.0406\n",
      "Epoch 221/400, Loss: 0.0394\n",
      "Epoch 222/400, Loss: 0.0390\n",
      "Epoch 223/400, Loss: 0.0365\n",
      "Epoch 224/400, Loss: 0.0393\n",
      "Epoch 225/400, Loss: 0.0344\n",
      "Epoch 226/400, Loss: 0.0354\n",
      "Epoch 227/400, Loss: 0.0326\n",
      "Epoch 228/400, Loss: 0.0367\n",
      "Epoch 229/400, Loss: 0.0390\n",
      "Epoch 230/400, Loss: 0.0381\n",
      "Epoch 231/400, Loss: 0.0309\n",
      "Epoch 232/400, Loss: 0.0387\n",
      "Epoch 233/400, Loss: 0.0369\n",
      "Epoch 234/400, Loss: 0.0373\n",
      "Epoch 235/400, Loss: 0.0317\n",
      "Epoch 236/400, Loss: 0.0335\n",
      "Epoch 237/400, Loss: 0.0283\n",
      "Epoch 238/400, Loss: 0.0439\n",
      "Epoch 239/400, Loss: 0.0302\n",
      "Epoch 240/400, Loss: 0.0324\n",
      "Epoch 241/400, Loss: 0.0316\n",
      "Epoch 242/400, Loss: 0.0436\n",
      "Epoch 243/400, Loss: 0.0314\n",
      "Epoch 244/400, Loss: 0.0333\n",
      "Epoch 245/400, Loss: 0.0420\n",
      "Epoch 246/400, Loss: 0.0472\n",
      "Epoch 247/400, Loss: 0.0548\n",
      "Epoch 248/400, Loss: 0.0404\n",
      "Epoch 249/400, Loss: 0.0392\n",
      "Epoch 250/400, Loss: 0.0370\n",
      "Epoch 251/400, Loss: 0.0349\n",
      "Epoch 252/400, Loss: 0.0415\n",
      "Epoch 253/400, Loss: 0.0299\n",
      "Epoch 254/400, Loss: 0.0345\n",
      "Epoch 255/400, Loss: 0.0283\n",
      "Epoch 256/400, Loss: 0.0377\n",
      "Epoch 257/400, Loss: 0.0344\n",
      "Epoch 258/400, Loss: 0.0354\n",
      "Epoch 259/400, Loss: 0.0322\n",
      "Epoch 260/400, Loss: 0.0368\n",
      "Epoch 261/400, Loss: 0.0383\n",
      "Epoch 262/400, Loss: 0.0343\n",
      "Epoch 263/400, Loss: 0.0408\n",
      "Epoch 264/400, Loss: 0.0408\n",
      "Epoch 265/400, Loss: 0.0308\n",
      "Epoch 266/400, Loss: 0.0514\n",
      "Epoch 267/400, Loss: 0.0368\n",
      "Epoch 268/400, Loss: 0.0343\n",
      "Epoch 269/400, Loss: 0.0341\n",
      "Epoch 270/400, Loss: 0.0358\n",
      "Epoch 271/400, Loss: 0.0357\n",
      "Epoch 272/400, Loss: 0.0326\n",
      "Epoch 273/400, Loss: 0.0303\n",
      "Epoch 274/400, Loss: 0.0415\n",
      "Epoch 275/400, Loss: 0.0547\n",
      "Epoch 276/400, Loss: 0.0338\n",
      "Epoch 277/400, Loss: 0.0313\n",
      "Epoch 278/400, Loss: 0.0393\n",
      "Epoch 279/400, Loss: 0.0634\n",
      "Epoch 280/400, Loss: 0.0350\n",
      "Epoch 281/400, Loss: 0.0434\n",
      "Epoch 282/400, Loss: 0.0469\n",
      "Epoch 283/400, Loss: 0.0405\n",
      "Epoch 284/400, Loss: 0.0443\n",
      "Epoch 285/400, Loss: 0.0425\n",
      "Epoch 286/400, Loss: 0.0416\n",
      "Epoch 287/400, Loss: 0.0393\n",
      "Epoch 288/400, Loss: 0.0323\n",
      "Epoch 289/400, Loss: 0.0337\n",
      "Epoch 290/400, Loss: 0.0308\n",
      "Epoch 291/400, Loss: 0.0333\n",
      "Epoch 292/400, Loss: 0.0320\n",
      "Epoch 293/400, Loss: 0.0399\n",
      "Epoch 294/400, Loss: 0.0440\n",
      "Epoch 295/400, Loss: 0.0287\n",
      "Epoch 296/400, Loss: 0.0378\n",
      "Epoch 297/400, Loss: 0.0290\n",
      "Epoch 298/400, Loss: 0.0313\n",
      "Epoch 299/400, Loss: 0.0390\n",
      "Epoch 300/400, Loss: 0.0380\n",
      "Epoch 301/400, Loss: 0.0641\n",
      "Epoch 302/400, Loss: 0.0443\n",
      "Epoch 303/400, Loss: 0.0456\n",
      "Epoch 304/400, Loss: 0.0278\n",
      "Epoch 305/400, Loss: 0.0317\n",
      "Epoch 306/400, Loss: 0.0318\n",
      "Epoch 307/400, Loss: 0.0438\n",
      "Epoch 308/400, Loss: 0.0314\n",
      "Epoch 309/400, Loss: 0.0379\n",
      "Epoch 310/400, Loss: 0.0339\n",
      "Epoch 311/400, Loss: 0.0312\n",
      "Epoch 312/400, Loss: 0.0294\n",
      "Epoch 313/400, Loss: 0.0297\n",
      "Epoch 314/400, Loss: 0.0346\n",
      "Epoch 315/400, Loss: 0.0356\n",
      "Epoch 316/400, Loss: 0.0297\n",
      "Epoch 317/400, Loss: 0.0364\n",
      "Epoch 318/400, Loss: 0.0366\n",
      "Epoch 319/400, Loss: 0.0331\n",
      "Epoch 320/400, Loss: 0.0300\n",
      "Epoch 321/400, Loss: 0.0325\n",
      "Epoch 322/400, Loss: 0.0333\n",
      "Epoch 323/400, Loss: 0.0371\n",
      "Epoch 324/400, Loss: 0.0478\n",
      "Epoch 325/400, Loss: 0.0592\n",
      "Epoch 326/400, Loss: 0.0609\n",
      "Epoch 327/400, Loss: 0.0286\n",
      "Epoch 328/400, Loss: 0.0450\n",
      "Epoch 329/400, Loss: 0.0323\n",
      "Epoch 330/400, Loss: 0.0323\n",
      "Epoch 331/400, Loss: 0.0328\n",
      "Epoch 332/400, Loss: 0.0353\n",
      "Epoch 333/400, Loss: 0.0268\n",
      "Epoch 334/400, Loss: 0.0354\n",
      "Epoch 335/400, Loss: 0.0290\n",
      "Epoch 336/400, Loss: 0.0345\n",
      "Epoch 337/400, Loss: 0.0357\n",
      "Epoch 338/400, Loss: 0.0361\n",
      "Epoch 339/400, Loss: 0.0310\n",
      "Epoch 340/400, Loss: 0.0310\n",
      "Epoch 341/400, Loss: 0.0243\n",
      "Epoch 342/400, Loss: 0.0295\n",
      "Epoch 343/400, Loss: 0.0278\n",
      "Epoch 344/400, Loss: 0.0313\n",
      "Epoch 345/400, Loss: 0.0335\n",
      "Epoch 346/400, Loss: 0.0351\n",
      "Epoch 347/400, Loss: 0.0519\n",
      "Epoch 348/400, Loss: 0.0415\n",
      "Epoch 349/400, Loss: 0.0388\n",
      "Epoch 350/400, Loss: 0.0297\n",
      "Epoch 351/400, Loss: 0.0293\n",
      "Epoch 352/400, Loss: 0.0298\n",
      "Epoch 353/400, Loss: 0.0323\n",
      "Epoch 354/400, Loss: 0.0328\n",
      "Epoch 355/400, Loss: 0.0277\n",
      "Epoch 356/400, Loss: 0.0296\n",
      "Epoch 357/400, Loss: 0.0308\n",
      "Epoch 358/400, Loss: 0.0339\n",
      "Epoch 359/400, Loss: 0.0330\n",
      "Epoch 360/400, Loss: 0.0450\n",
      "Epoch 361/400, Loss: 0.0402\n",
      "Epoch 362/400, Loss: 0.0358\n",
      "Epoch 363/400, Loss: 0.0444\n",
      "Epoch 364/400, Loss: 0.0374\n",
      "Epoch 365/400, Loss: 0.0373\n",
      "Epoch 366/400, Loss: 0.0372\n",
      "Epoch 367/400, Loss: 0.0344\n",
      "Epoch 368/400, Loss: 0.0489\n",
      "Epoch 369/400, Loss: 0.0363\n",
      "Epoch 370/400, Loss: 0.0311\n",
      "Epoch 371/400, Loss: 0.0460\n",
      "Epoch 372/400, Loss: 0.0312\n",
      "Epoch 373/400, Loss: 0.0340\n",
      "Epoch 374/400, Loss: 0.0289\n",
      "Epoch 375/400, Loss: 0.0241\n",
      "Epoch 376/400, Loss: 0.0296\n",
      "Epoch 377/400, Loss: 0.0263\n",
      "Epoch 378/400, Loss: 0.0277\n",
      "Epoch 379/400, Loss: 0.0370\n",
      "Epoch 380/400, Loss: 0.0395\n",
      "Epoch 381/400, Loss: 0.0380\n",
      "Epoch 382/400, Loss: 0.0286\n",
      "Epoch 383/400, Loss: 0.0300\n",
      "Epoch 384/400, Loss: 0.0342\n",
      "Epoch 385/400, Loss: 0.0272\n",
      "Epoch 386/400, Loss: 0.0343\n",
      "Epoch 387/400, Loss: 0.0415\n",
      "Epoch 388/400, Loss: 0.0361\n",
      "Epoch 389/400, Loss: 0.0365\n",
      "Epoch 390/400, Loss: 0.0470\n",
      "Epoch 391/400, Loss: 0.0335\n",
      "Epoch 392/400, Loss: 0.0316\n",
      "Epoch 393/400, Loss: 0.0356\n",
      "Epoch 394/400, Loss: 0.0356\n",
      "Epoch 395/400, Loss: 0.0277\n",
      "Epoch 396/400, Loss: 0.0281\n",
      "Epoch 397/400, Loss: 0.0272\n",
      "Epoch 398/400, Loss: 0.0297\n",
      "Epoch 399/400, Loss: 0.0265\n",
      "Epoch 400/400, Loss: 0.0369\n"
     ]
    }
   ],
   "source": [
    "\n",
    "# Training loop\n",
    "num_epochs = 400\n",
    "for epoch in range(num_epochs):\n",
    "    model.train()\n",
    "    total_loss = 0\n",
    "    for data in dataloader:\n",
    "        optimizer.zero_grad()\n",
    "        output = model(data)\n",
    "        loss = criterion(output, data.y[:, 0:1].float())\n",
    "        loss.backward()\n",
    "        optimizer.step()\n",
    "        total_loss += loss.item()\n",
    "    avg_loss = total_loss / len(dataloader)\n",
    "    print(f'Epoch {epoch + 1}/{num_epochs}, Loss: {avg_loss:.4f}')\n",
    "    wandb.log({\"epoch\": epoch+1, \"loss\": avg_loss})\n",
    "\n",
    "# Save the trained model\n",
    "# torch.save(model.state_dict(), 'gnn_model.pth')\n",
    "wandb.finish()"
   ]
  },
  {
   "cell_type": "code",
   "execution_count": null,
   "metadata": {},
   "outputs": [],
   "source": [
    "# wandb.finish()"
   ]
  },
  {
   "cell_type": "code",
   "execution_count": 4,
   "metadata": {},
   "outputs": [
    {
     "data": {
      "text/plain": [
       "108"
      ]
     },
     "execution_count": 4,
     "metadata": {},
     "output_type": "execute_result"
    }
   ],
   "source": [
    "len(filtered_dataset)"
   ]
  },
  {
   "cell_type": "code",
   "execution_count": 31,
   "metadata": {},
   "outputs": [],
   "source": [
    "x = dataset[0]"
   ]
  },
  {
   "cell_type": "code",
   "execution_count": 32,
   "metadata": {},
   "outputs": [
    {
     "data": {
      "image/png": "[encoded data removed]",
      "text/plain": [
       "<Figure size 640x480 with 1 Axes>"
      ]
     },
     "metadata": {},
     "output_type": "display_data"
    }
   ],
   "source": [
    "import matplotlib.pyplot as plt\n",
    "\n",
    "nodes = [x.num_edges for x in dataset]\n",
    "\n",
    "plt.hist(nodes, bins=10, range=(0, 10));"
   ]
  },
  {
   "cell_type": "markdown",
   "metadata": {},
   "source": [
    "## Quantum Network"
   ]
  },
  {
   "cell_type": "code",
   "execution_count": 39,
   "metadata": {},
   "outputs": [],
   "source": [
    "#params\n",
    "# max_nodes = "
   ]
  },
  {
   "cell_type": "code",
   "execution_count": 8,
   "metadata": {},
   "outputs": [],
   "source": [
    "import pennylane as qml\n",
    "import pennylane.numpy as np"
   ]
  },
  {
   "cell_type": "code",
   "execution_count": 13,
   "metadata": {},
   "outputs": [],
   "source": [
    "# final stage\n",
    "from typing import Literal\n",
    "import torch\n",
    "import torch.nn as nn\n",
    "import torch.nn.functional as F\n",
    "\n",
    "def encoding_layer(values):\n",
    "    \"\"\"\n",
    "    pooling layer, that encodes params, or edge features in nodes\n",
    "\n",
    "    values: [num nodes] tensor\n",
    "    \"\"\"\n",
    "    for w in range(values.shape[0]):\n",
    "        qml.RX(values[w], w)\n",
    "\n",
    "def edged_entengling_layer(edge_index, rot_param):\n",
    "    for i in range(edge_index.shape[1]):\n",
    "        qml.IsingYY(rot_param, wires=[edge_index[0,i], edge_index[1,i]])\n",
    "\n",
    "def measurement(n_qubits):\n",
    "    return [qml.expval(qml.PauliZ(i)) for i in range(n_qubits)]\n",
    "\n",
    "def parametrised_rotations(angles, wires):\n",
    "    for w in wires:\n",
    "        qml.Rot(*angles, w)\n",
    "    \n",
    "\n",
    "n_layers = 3\n",
    "def circuit(inputs, params, edge_weights, atoms_weight: list[5]):\n",
    "    data = inputs\n",
    "    num_atoms = data.x.shape[0]\n",
    "    atom_embeddings = data.x @ atoms_weight   # [num_atoms, 5] * [5] -> [num_atoms]\n",
    "    # assert atom_embeddings.shape == (1,)\n",
    "    edge_index = data.edge_index\n",
    "    for l in range(n_layers):\n",
    "        encoding_layer(atom_embeddings)\n",
    "        parametrised_rotations(params[2*l], wires=range(num_atoms))\n",
    "        edged_entengling_layer(edge_index, edge_weights[l])\n",
    "        parametrised_rotations(params[2*l+1], wires=range(num_atoms))\n",
    "    return measurement(num_atoms)\n",
    "\n",
    "class QuantumGNN(nn.Module):\n",
    "    def init_weight(self, weights_shape):\n",
    "        weights = {}\n",
    "        for name, shape in weights_shape.items():\n",
    "            t = torch.nn.Parameter(torch.rand(*shape, requires_grad=True).float()*2*np.pi, requires_grad=True)\n",
    "            self.register_parameter(name, t)\n",
    "            weights[name] = t\n",
    "        return weights\n",
    "    def __init__(self, readout: Literal[\"global\", \"local\"], max_qubits: int):\n",
    "        super().__init__()\n",
    "        device = qml.device(\"lightning.qubit\", wires=max_qubits)\n",
    "        self.qnode = qml.QNode(circuit, device)\n",
    "        weights_shape = {\"params\": [2*n_layers, 3], \"edge_weights\":[n_layers], \"atoms_weight\": [5]}\n",
    "\n",
    "        self.qnode_weights = self.init_weight(weights_shape)\n",
    "        \n",
    "        self.qlayer = qml.qnn.TorchLayer(self.qnode, weights_shape)\n",
    "\n",
    "        self.fc1 = nn.Linear(1, 2)\n",
    "        self.fc2 = nn.Linear(2, 1)\n",
    "    def forward(self, batch):\n",
    "        # print(batch)\n",
    "        results = []\n",
    "        for i in range(len(batch)):\n",
    "            g = batch[i]\n",
    "            # print(g)\n",
    "            exps = self.qnode(g, **self.qnode_weights)\n",
    "            exps = torch.stack(exps).float()\n",
    "            # print(exps)\n",
    "            # assert exps.shape == (g.num_atoms\n",
    "            avgs = torch.mean(exps, axis=0, keepdim=True)\n",
    "            results.append(avgs)\n",
    "        x = torch.stack(results)    \n",
    "        x = F.relu(self.fc1(x))\n",
    "        x = self.fc2(x)\n",
    "        return x"
   ]
  },
  {
   "cell_type": "code",
   "execution_count": 14,
   "metadata": {},
   "outputs": [
    {
     "name": "stdout",
     "output_type": "stream",
     "text": [
      "number of parameters is  59\n"
     ]
    }
   ],
   "source": [
    "model = QuantumGNN('global', max_nodes)\n",
    "n_params = sum([p.numel() for p in model.parameters()])\n",
    "print(\"number of parameters is \", n_params)"
   ]
  },
  {
   "cell_type": "code",
   "execution_count": 15,
   "metadata": {},
   "outputs": [
    {
     "data": {
      "text/html": [
       "Finishing last run (ID:1uk21cr5) before initializing another..."
      ],
      "text/plain": [
       "<IPython.core.display.HTML object>"
      ]
     },
     "metadata": {},
     "output_type": "display_data"
    },
    {
     "name": "stderr",
     "output_type": "stream",
     "text": [
      "wandb: WARNING Source type is set to 'repo' but some required information is missing from the environment. A job will not be created from this run. See https://docs.wandb.ai/guides/launch/create-job\n"
     ]
    },
    {
     "data": {
      "application/vnd.jupyter.widget-view+json": {
       "model_id": "4bc8fd10b8dd4f71951542520067bcd3",
       "version_major": 2,
       "version_minor": 0
      },
      "text/plain": [
       "VBox(children=(Label(value='0.438 MB of 0.448 MB uploaded\\r'), FloatProgress(value=0.9779453069145133, max=1.0…"
      ]
     },
     "metadata": {},
     "output_type": "display_data"
    },
    {
     "data": {
      "text/html": [
       "<style>\n",
       "    table.wandb td:nth-child(1) { padding: 0 10px; text-align: left ; width: auto;} td:nth-child(2) {text-align: left ; width: 100%}\n",
       "    .wandb-row { display: flex; flex-direction: row; flex-wrap: wrap; justify-content: flex-start; width: 100% }\n",
       "    .wandb-col { display: flex; flex-direction: column; flex-basis: 100%; flex: 1; padding: 10px; }\n",
       "    </style>\n",
       "<div class=\"wandb-row\"><div class=\"wandb-col\"><h3>Run history:</h3><br/><table class=\"wandb\"><tr><td>epoch</td><td>▁▁▂▂▃▃▄▄▅▅▆▆▇▇██</td></tr><tr><td>loss</td><td>█▂▁▃▄▃▂▁▁▁▂▂▂▂▁▁</td></tr></table><br/></div><div class=\"wandb-col\"><h3>Run summary:</h3><br/><table class=\"wandb\"><tr><td>epoch</td><td>157</td></tr><tr><td>loss</td><td>0.33233</td></tr></table><br/></div></div>"
      ],
      "text/plain": [
       "<IPython.core.display.HTML object>"
      ]
     },
     "metadata": {},
     "output_type": "display_data"
    },
    {
     "data": {
      "text/html": [
       " View run <strong style=\"color:#cdcd00\">magic-lion-21</strong> at: <a href='https://wandb.ai/amirfvb/graphQNN/runs/1uk21cr5' target=\"_blank\">https://wandb.ai/amirfvb/graphQNN/runs/1uk21cr5</a><br/>Synced 7 W&B file(s), 0 media file(s), 0 artifact file(s) and 1 other file(s)"
      ],
      "text/plain": [
       "<IPython.core.display.HTML object>"
      ]
     },
     "metadata": {},
     "output_type": "display_data"
    },
    {
     "data": {
      "text/html": [
       "Find logs at: <code>./wandb/run-20231120_010807-1uk21cr5/logs</code>"
      ],
      "text/plain": [
       "<IPython.core.display.HTML object>"
      ]
     },
     "metadata": {},
     "output_type": "display_data"
    },
    {
     "data": {
      "text/html": [
       "Successfully finished last run (ID:1uk21cr5). Initializing new run:<br/>"
      ],
      "text/plain": [
       "<IPython.core.display.HTML object>"
      ]
     },
     "metadata": {},
     "output_type": "display_data"
    },
    {
     "data": {
      "application/vnd.jupyter.widget-view+json": {
       "model_id": "a9f05b4e6d6348b4a6bf19d34ae6ae84",
       "version_major": 2,
       "version_minor": 0
      },
      "text/plain": [
       "VBox(children=(Label(value='Waiting for wandb.init()...\\r'), FloatProgress(value=0.011113419538984697, max=1.0…"
      ]
     },
     "metadata": {},
     "output_type": "display_data"
    },
    {
     "data": {
      "text/html": [
       "Tracking run with wandb version 0.16.0"
      ],
      "text/plain": [
       "<IPython.core.display.HTML object>"
      ]
     },
     "metadata": {},
     "output_type": "display_data"
    },
    {
     "data": {
      "text/html": [
       "Run data is saved locally in <code>/home/coder/project/wandb/run-20231120_010938-mp5xzj9x</code>"
      ],
      "text/plain": [
       "<IPython.core.display.HTML object>"
      ]
     },
     "metadata": {},
     "output_type": "display_data"
    },
    {
     "data": {
      "text/html": [
       "Syncing run <strong><a href='https://wandb.ai/amirfvb/graphQNN/runs/mp5xzj9x' target=\"_blank\">misty-jazz-22</a></strong> to <a href='https://wandb.ai/amirfvb/graphQNN' target=\"_blank\">Weights & Biases</a> (<a href='https://wandb.me/run' target=\"_blank\">docs</a>)<br/>"
      ],
      "text/plain": [
       "<IPython.core.display.HTML object>"
      ]
     },
     "metadata": {},
     "output_type": "display_data"
    },
    {
     "data": {
      "text/html": [
       " View project at <a href='https://wandb.ai/amirfvb/graphQNN' target=\"_blank\">https://wandb.ai/amirfvb/graphQNN</a>"
      ],
      "text/plain": [
       "<IPython.core.display.HTML object>"
      ]
     },
     "metadata": {},
     "output_type": "display_data"
    },
    {
     "data": {
      "text/html": [
       " View run at <a href='https://wandb.ai/amirfvb/graphQNN/runs/mp5xzj9x' target=\"_blank\">https://wandb.ai/amirfvb/graphQNN/runs/mp5xzj9x</a>"
      ],
      "text/plain": [
       "<IPython.core.display.HTML object>"
      ]
     },
     "metadata": {},
     "output_type": "display_data"
    }
   ],
   "source": [
    "lr = 0.01\n",
    "batch_size = 64\n",
    "\n",
    "run = wandb.init(\n",
    "    # Set the project where this run will be logged\n",
    "    project=wandb_prj_name,\n",
    "    # Track hyperparameters and run metadata\n",
    "    config={\n",
    "        \"learning_rate\": lr,\n",
    "        \"n_params\": n_params-26, # todo fix this. Remove doublecheck of the params\n",
    "        \"model\": \"quantum\",\n",
    "        \"num_nodes\": max_nodes,\n",
    "        \"batch_size\": batch_size,\n",
    "    })"
   ]
  },
  {
   "cell_type": "code",
   "execution_count": 16,
   "metadata": {},
   "outputs": [
    {
     "data": {
      "application/vnd.jupyter.widget-view+json": {
       "model_id": "00c507c5a19348a8950c14db0a4abc33",
       "version_major": 2,
       "version_minor": 0
      },
      "text/plain": [
       "  0%|          | 0/300 [00:00<?, ?it/s]"
      ]
     },
     "metadata": {},
     "output_type": "display_data"
    },
    {
     "name": "stdout",
     "output_type": "stream",
     "text": [
      "Epoch 1/300, Loss: 0.7359\n",
      "Epoch 2/300, Loss: 0.7108\n",
      "Epoch 3/300, Loss: 0.6867\n",
      "Epoch 4/300, Loss: 0.6644\n",
      "Epoch 5/300, Loss: 0.6431\n",
      "Epoch 6/300, Loss: 0.6229\n",
      "Epoch 7/300, Loss: 0.6041\n",
      "Epoch 8/300, Loss: 0.5866\n",
      "Epoch 9/300, Loss: 0.5707\n",
      "Epoch 10/300, Loss: 0.5573\n",
      "Epoch 11/300, Loss: 0.5456\n"
     ]
    }
   ],
   "source": [
    "from tqdm.auto import tqdm \n",
    "import os\n",
    "optimizer = torch.optim.Adam(model.parameters(), lr=lr)\n",
    "criterion = nn.MSELoss()\n",
    "\n",
    "# Create a DataLoader for the filtered dataset\n",
    "dataloader = DataLoader(filtered_dataset, batch_size=batch_size, shuffle=True)\n",
    "\n",
    "chkp_folder = \"checkpoints3\"\n",
    "os.makedirs(chkp_folder, exist_ok=True)\n",
    "\n",
    "# Training loop\n",
    "num_epochs = 300\n",
    "for epoch in tqdm(range(0, num_epochs)):\n",
    "    model.train()\n",
    "    total_loss = 0\n",
    "    for data in dataloader:\n",
    "        # print([t[0] for t in model.parameters()])\n",
    "        optimizer.zero_grad()\n",
    "        output = model(data)\n",
    "        loss = criterion(output, data.y[:, 0:1].float())\n",
    "        loss.backward()\n",
    "        optimizer.step()\n",
    "        total_loss += loss.item()\n",
    "    avg_loss = total_loss / len(dataloader)\n",
    "    print(f'Epoch {epoch + 1}/{num_epochs}, Loss: {avg_loss:.4f}')\n",
    "    wandb.log({\"epoch\": epoch+1, \"loss\": avg_loss})\n",
    "    torch.save(model.state_dict(), os.path.join(chkp_folder, f'qgnn_model_{epoch}.pth'))\n",
    "\n",
    "# Save the trained model\n",
    "wandb.finish()"
   ]
  },
  {
   "cell_type": "code",
   "execution_count": null,
   "metadata": {},
   "outputs": [
    {
     "name": "stderr",
     "output_type": "stream",
     "text": [
      "wandb: WARNING Source type is set to 'repo' but some required information is missing from the environment. A job will not be created from this run. See https://docs.wandb.ai/guides/launch/create-job\n"
     ]
    },
    {
     "data": {
      "application/vnd.jupyter.widget-view+json": {
       "model_id": "72bbee9740e14ebd9aaebb951ce6352a",
       "version_major": 2,
       "version_minor": 0
      },
      "text/plain": [
       "VBox(children=(Label(value='0.015 MB of 0.025 MB uploaded\\r'), FloatProgress(value=0.5905556825977589, max=1.0…"
      ]
     },
     "metadata": {},
     "output_type": "display_data"
    },
    {
     "data": {
      "text/html": [
       "<style>\n",
       "    table.wandb td:nth-child(1) { padding: 0 10px; text-align: left ; width: auto;} td:nth-child(2) {text-align: left ; width: 100%}\n",
       "    .wandb-row { display: flex; flex-direction: row; flex-wrap: wrap; justify-content: flex-start; width: 100% }\n",
       "    .wandb-col { display: flex; flex-direction: column; flex-basis: 100%; flex: 1; padding: 10px; }\n",
       "    </style>\n",
       "<div class=\"wandb-row\"><div class=\"wandb-col\"><h3>Run history:</h3><br/><table class=\"wandb\"><tr><td>epoch</td><td>▁▁▁▂▂▂▂▂▃▃▃▃▃▄▄▄▄▄▅▅▅▅▅▆▆▆▆▆▇▇▇▇▇███</td></tr><tr><td>loss</td><td>█▅▂▁▁▁▁▁▁▁▁▁▁▁▁▁▁▁▁▁▁▁▁▁▁▁▁▁▁▁▁▁▁▁▁▁</td></tr></table><br/></div><div class=\"wandb-col\"><h3>Run summary:</h3><br/><table class=\"wandb\"><tr><td>epoch</td><td>36</td></tr><tr><td>loss</td><td>2.83641</td></tr></table><br/></div></div>"
      ],
      "text/plain": [
       "<IPython.core.display.HTML object>"
      ]
     },
     "metadata": {},
     "output_type": "display_data"
    },
    {
     "data": {
      "text/html": [
       " View run <strong style=\"color:#cdcd00\">swift-rain-6</strong> at: <a href='https://wandb.ai/amirfvb/graphQNN/runs/fzwh6l8i' target=\"_blank\">https://wandb.ai/amirfvb/graphQNN/runs/fzwh6l8i</a><br/>Synced 7 W&B file(s), 0 media file(s), 0 artifact file(s) and 0 other file(s)"
      ],
      "text/plain": [
       "<IPython.core.display.HTML object>"
      ]
     },
     "metadata": {},
     "output_type": "display_data"
    },
    {
     "data": {
      "text/html": [
       "Find logs at: <code>./wandb/run-20231113_113913-fzwh6l8i/logs</code>"
      ],
      "text/plain": [
       "<IPython.core.display.HTML object>"
      ]
     },
     "metadata": {},
     "output_type": "display_data"
    }
   ],
   "source": [
    "wandb.finish()"
   ]
  },
  {
   "cell_type": "code",
   "execution_count": 53,
   "metadata": {},
   "outputs": [
    {
     "data": {
      "text/plain": [
       "Parameter containing:\n",
       "tensor([[3.1551, 4.4484, 5.0641],\n",
       "        [5.5594, 0.6541, 1.0174],\n",
       "        [5.0052, 0.1665, 0.7415],\n",
       "        [2.9890, 2.2093, 2.4488],\n",
       "        [4.4664, 5.4787, 2.9617],\n",
       "        [0.0323, 0.4213, 5.6541]], requires_grad=True)"
      ]
     },
     "execution_count": 53,
     "metadata": {},
     "output_type": "execute_result"
    }
   ],
   "source": [
    "p = next(iter(model.parameters()))\n",
    "p[:]"
   ]
  },
  {
   "cell_type": "code",
   "execution_count": 62,
   "metadata": {},
   "outputs": [],
   "source": [
    "p.grad_fn"
   ]
  },
  {
   "cell_type": "code",
   "execution_count": null,
   "metadata": {},
   "outputs": [
    {
     "data": {
      "text/plain": [
       "Data(x=[4, 5], edge_index=[2, 6], edge_attr=[6, 4], y=[1, 19], pos=[4, 3], idx=[1], name='gdb_25', z=[4])"
      ]
     },
     "execution_count": 29,
     "metadata": {},
     "output_type": "execute_result"
    }
   ],
   "source": [
    "data[0]"
   ]
  },
  {
   "cell_type": "code",
   "execution_count": 91,
   "metadata": {},
   "outputs": [
    {
     "data": {
      "text/plain": [
       "(array([7., 4., 3., 7., 4., 4., 5., 4., 3., 2.]),\n",
       " array([-1.        , -0.80000001, -0.60000002, -0.40000001, -0.2       ,\n",
       "         0.        ,  0.2       ,  0.40000001,  0.60000002,  0.80000001,\n",
       "         1.        ]),\n",
       " <BarContainer object of 10 artists>)"
      ]
     },
     "execution_count": 91,
     "metadata": {},
     "output_type": "execute_result"
    },
    {
     "data": {
      "image/png": "[encoded data removed]",
      "text/plain": [
       "<Figure size 640x480 with 1 Axes>"
      ]
     },
     "metadata": {},
     "output_type": "display_data"
    }
   ],
   "source": [
    "import matplotlib.pyplot as plt\n",
    "\n",
    "\n",
    "prop = [data.y[0, 0] for data in filtered_dataset]\n",
    "plt.hist(prop)"
   ]
  },
  {
   "cell_type": "markdown",
   "metadata": {},
   "source": [
    "Model loading"
   ]
  },
  {
   "cell_type": "code",
   "execution_count": 10,
   "metadata": {},
   "outputs": [
    {
     "data": {
      "text/plain": [
       "<All keys matched successfully>"
      ]
     },
     "execution_count": 10,
     "metadata": {},
     "output_type": "execute_result"
    }
   ],
   "source": [
    "model.load_state_dict(torch.load(\"./checkpoints2/qgnn_model_140.pth\"))"
   ]
  },
  {
   "cell_type": "markdown",
   "metadata": {},
   "source": [
    "## Predictions visualization"
   ]
  },
  {
   "cell_type": "code",
   "execution_count": 11,
   "metadata": {},
   "outputs": [],
   "source": [
    "import matplotlib.pyplot as plt\n",
    "\n",
    "\n",
    "def visualize_predictions(model, dataloader, feature_idx):\n",
    "    predictions = []\n",
    "    answers = []\n",
    "    model.eval()\n",
    "    with torch.no_grad():\n",
    "        for data in dataloader:\n",
    "            output = model(data)\n",
    "            predictions.append(output)\n",
    "            answers.append(data.y[:, feature_idx:feature_idx+1])\n",
    "    predictions = torch.cat(predictions)\n",
    "    answers = torch.cat(answers)\n",
    "    plt.plot(answers, predictions, \"o\")\n",
    "    plt.xlabel(\"correct answer\")\n",
    "    plt.ylabel(\"prediction\")\n",
    "    mse = criterion(answers, predictions)\n",
    "    print(mse)\n",
    "    return predictions, answers"
   ]
  },
  {
   "cell_type": "code",
   "execution_count": 12,
   "metadata": {},
   "outputs": [],
   "source": [
    "batch_size = 1\n",
    "dataloader = DataLoader(filtered_dataset, batch_size=batch_size, shuffle=True)"
   ]
  },
  {
   "cell_type": "code",
   "execution_count": 20,
   "metadata": {},
   "outputs": [
    {
     "data": {
      "text/plain": [
       "Text(0.5, 1.0, 'Q model, 26 params')"
      ]
     },
     "execution_count": 20,
     "metadata": {},
     "output_type": "execute_result"
    },
    {
     "data": {
      "image/png": "[encoded data removed]",
      "text/plain": [
       "<Figure size 640x480 with 1 Axes>"
      ]
     },
     "metadata": {},
     "output_type": "display_data"
    }
   ],
   "source": [
    "predictions, answers  = visualize_predictions(model, dataloader, 0)\n",
    "plt.title(\"Q model, 26 params\")"
   ]
  },
  {
   "cell_type": "code",
   "execution_count": 43,
   "metadata": {},
   "outputs": [
    {
     "data": {
      "text/plain": [
       "Text(0.5, 1.0, 'C model, 34 params')"
      ]
     },
     "execution_count": 43,
     "metadata": {},
     "output_type": "execute_result"
    },
    {
     "data": {
      "image/png": "[encoded data removed]",
      "text/plain": [
       "<Figure size 640x480 with 1 Axes>"
      ]
     },
     "metadata": {},
     "output_type": "display_data"
    }
   ],
   "source": [
    "predictions, answers  = visualize_predictions(model, dataloader, 0)\n",
    "plt.title(\"C model, 34 params\")"
   ]
  },
  {
   "cell_type": "code",
   "execution_count": 47,
   "metadata": {},
   "outputs": [
    {
     "data": {
      "text/plain": [
       "Text(0.5, 1.0, 'C model, 181 params')"
      ]
     },
     "execution_count": 47,
     "metadata": {},
     "output_type": "execute_result"
    },
    {
     "data": {
      "image/png": "[encoded data removed]",
      "text/plain": [
       "<Figure size 640x480 with 1 Axes>"
      ]
     },
     "metadata": {},
     "output_type": "display_data"
    }
   ],
   "source": [
    "predictions, answers  = visualize_predictions(model, dataloader, 0)\n",
    "plt.title(\"C model, 181 params\")"
   ]
  },
  {
   "cell_type": "code",
   "execution_count": 1,
   "metadata": {},
   "outputs": [
    {
     "ename": "NameError",
     "evalue": "name 'criterion' is not defined",
     "output_type": "error",
     "traceback": [
      "\u001b[0;31m---------------------------------------------------------------------------\u001b[0m",
      "\u001b[0;31mNameError\u001b[0m                                 Traceback (most recent call last)",
      "Cell \u001b[0;32mIn[13], line 1\u001b[0m\n\u001b[0;32m----> 1\u001b[0m predictions, answers  \u001b[39m=\u001b[39m visualize_predictions(model, dataloader, \u001b[39m0\u001b[39;49m)\n\u001b[1;32m      2\u001b[0m plt\u001b[39m.\u001b[39mtitle(\u001b[39m\"\u001b[39m\u001b[39mQ model, 33 params\u001b[39m\u001b[39m\"\u001b[39m)\n",
      "Cell \u001b[0;32mIn[11], line 18\u001b[0m, in \u001b[0;36mvisualize_predictions\u001b[0;34m(model, dataloader, feature_idx)\u001b[0m\n\u001b[1;32m     16\u001b[0m plt\u001b[39m.\u001b[39mxlabel(\u001b[39m\"\u001b[39m\u001b[39mcorrect answer\u001b[39m\u001b[39m\"\u001b[39m)\n\u001b[1;32m     17\u001b[0m plt\u001b[39m.\u001b[39mylabel(\u001b[39m\"\u001b[39m\u001b[39mprediction\u001b[39m\u001b[39m\"\u001b[39m)\n\u001b[0;32m---> 18\u001b[0m mse \u001b[39m=\u001b[39m criterion(answers, predictions)\n\u001b[1;32m     19\u001b[0m \u001b[39mprint\u001b[39m(mse)\n\u001b[1;32m     20\u001b[0m \u001b[39mreturn\u001b[39;00m predictions, answers\n",
      "\u001b[0;31mNameError\u001b[0m: name 'criterion' is not defined"
     ]
    },
    {
     "data": {
      "image/png": "[encoded data removed]",
      "text/plain": [
       "<Figure size 640x480 with 1 Axes>"
      ]
     },
     "metadata": {},
     "output_type": "display_data"
    }
   ],
   "source": [
    "predictions, answers  = visualize_predictions(model, dataloader, 0)\n",
    "plt.title(\"Q model, 33 params\")"
   ]
  }
 ],
 "metadata": {
  "kernelspec": {
   "display_name": "Python 3",
   "language": "python",
   "name": "python3"
  },
  "language_info": {
   "codemirror_mode": {
    "name": "ipython",
    "version": 3
   },
   "file_extension": ".py",
   "mimetype": "text/x-python",
   "name": "python",
   "nbconvert_exporter": "python",
   "pygments_lexer": "ipython3",
   "version": "3.10.13"
  },
  "orig_nbformat": 4
 },
 "nbformat": 4,
 "nbformat_minor": 2
}
